{
 "cells": [
  {
   "cell_type": "markdown",
   "metadata": {},
   "source": [
    "# PostHoc Analysis"
   ]
  },
  {
   "cell_type": "code",
   "execution_count": 2,
   "metadata": {},
   "outputs": [],
   "source": [
    "import os\n",
    "import pandas as pd\n",
    "import numpy as np\n",
    "import matplotlib.pyplot as plt\n",
    "import seaborn as sns\n",
    "\n",
    "from sklearn.linear_model import LinearRegression\n",
    "import statsmodels.api as sm\n",
    "from sklearn.tree import DecisionTreeRegressor, plot_tree\n",
    "from sklearn.model_selection import cross_val_score, RepeatedKFold, train_test_split\n",
    "from sklearn.metrics import make_scorer, mean_squared_error, mean_absolute_error, r2_score\n",
    "\n",
    "from sklearn.linear_model import LinearRegression\n",
    "from sklearn.ensemble import RandomForestRegressor, GradientBoostingRegressor\n",
    "from sklearn.neighbors import KNeighborsRegressor\n",
    "from sklearn.neural_network import MLPRegressor\n",
    "from sklearn.model_selection import GridSearchCV, RandomizedSearchCV\n",
    "\n",
    "sns.set_theme(style=\"whitegrid\")"
   ]
  },
  {
   "cell_type": "code",
   "execution_count": 3,
   "metadata": {},
   "outputs": [],
   "source": [
    "#change directory for your path\n",
    "os.chdir('E:\\\\OneDrive\\\\Documents\\\\GitHub\\\\eHealthEquity\\\\Research\\\\Data Source')"
   ]
  },
  {
   "cell_type": "code",
   "execution_count": 4,
   "metadata": {},
   "outputs": [
    {
     "name": "stdout",
     "output_type": "stream",
     "text": [
      "<class 'pandas.core.frame.DataFrame'>\n",
      "RangeIndex: 3076 entries, 0 to 3075\n",
      "Data columns (total 18 columns):\n",
      " #   Column                    Non-Null Count  Dtype  \n",
      "---  ------                    --------------  -----  \n",
      " 0   state                     3076 non-null   object \n",
      " 1   county                    3076 non-null   object \n",
      " 2   brfss_diabetes_ageadjprv  3076 non-null   float64\n",
      " 3   pct_dg_bb_int             3076 non-null   float64\n",
      " 4   brfss_access2_ageadjprv   3076 non-null   float64\n",
      " 5   brfss_checkup_ageadjprv   3076 non-null   float64\n",
      " 6   brfss_mhlth_ageadjprv     3076 non-null   float64\n",
      " 7   brfss_obesity_ageadjprv   3076 non-null   float64\n",
      " 8   pct_ed_lt9                3076 non-null   float64\n",
      " 9   pct_ed_9_12               3076 non-null   float64\n",
      " 10  pct_ed_hs                 3076 non-null   float64\n",
      " 11  pct_ed_asc                3076 non-null   float64\n",
      " 12  pct_age_gte65             3076 non-null   float64\n",
      " 13  pct_occ_unemp             3076 non-null   float64\n",
      " 14  pct_ses_pov               3076 non-null   float64\n",
      " 15  pct_tp_veh_0              3076 non-null   float64\n",
      " 16  ruca_rural                3076 non-null   int64  \n",
      " 17  bb_int_struct             3076 non-null   float64\n",
      "dtypes: float64(15), int64(1), object(2)\n",
      "memory usage: 432.7+ KB\n",
      "None\n"
     ]
    }
   ],
   "source": [
    "df = pd.read_csv('final_merge.csv')\n",
    "\n",
    "target = [\n",
    "    'brfss_diabetes_ageadjprv' # percentage of adults aged >=18 years who have diagnosed diabetes\n",
    "]\n",
    "features = [\n",
    "    'pct_dg_bb_int', # percentage of households with broadband internet access\n",
    "    \"brfss_access2_ageadjprv\", # percentage of adults aged >=18 years who are unable to see a doctor in the past 12 months due to cost\n",
    "    \"brfss_checkup_ageadjprv\", # percentage of adults aged >=18 years who had a checkup in the past 12 months\n",
    "    \"brfss_mhlth_ageadjprv\", # percentage of adults aged >=18 years who report 14 or more days of poor mental health in the past 30 days\n",
    "    \"brfss_obesity_ageadjprv\", # percentage of adults aged >=18 years who have obesity\n",
    "    \"pct_ed_lt9\", # percentage of adults aged >=25 years with less than a 9th grade education\n",
    "    \"pct_ed_9_12\", # percentage of adults aged >=25 years with a 9th to 12th grade education and no diploma\n",
    "    \"pct_ed_hs\", # percentage of adults aged >=25 years with a high school diploma or GED\n",
    "    \"pct_ed_asc\", # percentage of adults aged >=25 years with an associate's degree\n",
    "    \"pct_age_gte65\", # percentage of adults aged >=65 years\n",
    "    \"pct_occ_unemp\", #  percentage of employed adults aged >=16 years who are unemployed\n",
    "    \"pct_ses_pov\",  # percentage of all people in poverty\n",
    "    \"pct_tp_veh_0\", # percentage of households with zero vehicles\n",
    "    \"ruca_rural\", # rural-urban continuum codes\n",
    "    \"bb_int_struct\" # broadband internet access availability \n",
    "]\n",
    "geo = [\n",
    "    'state',\n",
    "    'county'\n",
    "]\n",
    "df = df[geo + target + features]\n",
    "\n",
    "print(df.info())"
   ]
  },
  {
   "cell_type": "markdown",
   "metadata": {},
   "source": [
    "# Predictive Power"
   ]
  },
  {
   "cell_type": "code",
   "execution_count": 5,
   "metadata": {},
   "outputs": [
    {
     "name": "stdout",
     "output_type": "stream",
     "text": [
      "Linear Regression\n",
      "Size of training set:  2307\n",
      "Size of testing set:  769\n",
      "\n",
      "MAE: 0.533 (0.032)\n",
      "MSE: 0.482 (0.065)\n",
      "RMSE: 0.693 (0.046)\n",
      "R^2: 0.905 (0.015)\n",
      "\n",
      "Test set\n",
      "MAE: 0.558\n",
      "MSE: 0.520\n",
      "RMSE: 0.721\n",
      "R^2: 0.894\n"
     ]
    }
   ],
   "source": [
    "X = df[features]\n",
    "y = df[target]\n",
    "y = np.array(y).ravel()\n",
    "\n",
    "X_train, X_test, y_train, y_test = train_test_split(X, y, test_size=0.25, random_state=418)\n",
    "\n",
    "lr = LinearRegression(fit_intercept=True)\n",
    "lr.fit(X_train, y_train)\n",
    "print('Linear Regression')\n",
    "print('Size of training set: ', X_train.shape[0])\n",
    "print('Size of testing set: ', X_test.shape[0])\n",
    "\n",
    "# Assess MAE, MSE, RMSE, and R^2 with cross validation\n",
    "cv = RepeatedKFold(n_splits=10, n_repeats=3, random_state=418)\n",
    "\n",
    "print('')\n",
    "mae = cross_val_score(lr, X_train, y_train, scoring=make_scorer(mean_absolute_error), cv=cv, n_jobs=-1)\n",
    "print('MAE: %.3f (%.3f)' % (np.mean(mae), np.std(mae)))\n",
    "mse = cross_val_score(lr, X_train, y_train, scoring=make_scorer(mean_squared_error), cv=cv, n_jobs=-1)\n",
    "print('MSE: %.3f (%.3f)' % (np.mean(mse), np.std(mse)))\n",
    "rmse = cross_val_score(lr, X_train, y_train, scoring=make_scorer(mean_squared_error, squared=False), cv=cv, n_jobs=-1)\n",
    "print('RMSE: %.3f (%.3f)' % (np.mean(rmse), np.std(rmse)))\n",
    "r2 = cross_val_score(lr, X_train, y_train, scoring=make_scorer(r2_score), cv=cv, n_jobs=-1)\n",
    "print('R^2: %.3f (%.3f)' % (np.mean(r2), np.std(r2)))\n",
    "\n",
    "# Assess MAE, MSE, RMSE, and R^2 with test set\n",
    "y_pred = lr.predict(X_test)\n",
    "print('')\n",
    "print('Test set')\n",
    "mae = mean_absolute_error(y_test, y_pred)\n",
    "print('MAE: %.3f' % mae)\n",
    "mse = mean_squared_error(y_test, y_pred)\n",
    "print('MSE: %.3f' % mse)\n",
    "rmse = mean_squared_error(y_test, y_pred, squared=False)\n",
    "print('RMSE: %.3f' % rmse)\n",
    "r2 = r2_score(y_test, y_pred)\n",
    "print('R^2: %.3f' % r2)\n"
   ]
  },
  {
   "cell_type": "markdown",
   "metadata": {},
   "source": [
    "# Geographic Analysis\n",
    "Organized by larger regions defined by the US Census Bureau. The regions are Northeast, Midwest, South, and West."
   ]
  },
  {
   "cell_type": "code",
   "execution_count": 6,
   "metadata": {},
   "outputs": [
    {
     "data": {
      "text/plain": [
       "array([], dtype=object)"
      ]
     },
     "execution_count": 6,
     "metadata": {},
     "output_type": "execute_result"
    }
   ],
   "source": [
    "regions = {\n",
    "    'Northeast': ['Connecticut', 'Maine', 'Massachusetts', 'New Hampshire', 'Rhode Island', 'Vermont', 'New Jersey', 'New York', 'Pennsylvania'],\n",
    "    'Midwest': ['Indiana', 'Illinois', 'Michigan', 'Ohio', 'Wisconsin', 'Iowa', 'Kansas', 'Minnesota', 'Missouri', 'Nebraska', 'North Dakota', 'South Dakota'],\n",
    "    'South': ['Delaware', 'Georgia', 'Maryland', 'North Carolina', 'South Carolina', 'Virginia', 'District of Columbia', 'West Virginia', 'Alabama', 'Kentucky', 'Mississippi', 'Tennessee', 'Arkansas', 'Louisiana', 'Oklahoma', 'Texas'],\n",
    "    'West': ['Arizona', 'Colorado', 'Idaho', 'Montana', 'Nevada', 'New Mexico', 'Utah', 'Wyoming', 'Alaska', 'California', 'Hawaii', 'Oregon', 'Washington']\n",
    "}\n",
    "\n",
    "df['region'] = df['state'].apply(lambda x: [k for k, v in regions.items() if x in v][0])\n",
    "\n",
    "unmapped = df[~df['region'].isin(regions.keys())]\n",
    "unmapped['state'].unique()"
   ]
  },
  {
   "cell_type": "code",
   "execution_count": 7,
   "metadata": {},
   "outputs": [
    {
     "data": {
      "text/plain": [
       "{'West': -0.025263398782000568,\n",
       " 'South': -0.01828708703566905,\n",
       " 'Northeast': -0.004039884588030501,\n",
       " 'Midwest': -0.0060562331377255465}"
      ]
     },
     "execution_count": 7,
     "metadata": {},
     "output_type": "execute_result"
    }
   ],
   "source": [
    "def regression_by_region(region_name, data, predictors, target):\n",
    "    region_data = data[data['region'] == region_name]\n",
    "    region_target = region_data[target]\n",
    "    region_features = region_data[predictors]\n",
    "    region_features = sm.add_constant(region_features)\n",
    "    region_model = sm.OLS(region_target, region_features).fit()\n",
    "    bb_int_coef = region_model.params['pct_dg_bb_int']\n",
    "\n",
    "    return region_model, bb_int_coef\n",
    "\n",
    "region_coef = {}\n",
    "\n",
    "for region in df['region'].unique():\n",
    "    region_model, bb_int_coef = regression_by_region(region, df, features, target)\n",
    "    region_coef[region] = bb_int_coef\n",
    "\n",
    "region_coef"
   ]
  },
  {
   "cell_type": "code",
   "execution_count": 8,
   "metadata": {},
   "outputs": [
    {
     "data": {
      "text/plain": [
       "{'Alaska': 0.003337652597036861,\n",
       " 'Alabama': 0.004319208323070034,\n",
       " 'Arkansas': -0.013917857862492774,\n",
       " 'Arizona': -0.026084625363885006,\n",
       " 'California': 0.007077215421293609,\n",
       " 'Colorado': 0.003661770422812516,\n",
       " 'Connecticut': -0.040008657779590284,\n",
       " 'District of Columbia': 0.0477302272542152,\n",
       " 'Delaware': 0.0384517170165484,\n",
       " 'Georgia': -0.015486746955361976,\n",
       " 'Hawaii': 0.028389613329861764,\n",
       " 'Iowa': 0.003440177000497091,\n",
       " 'Idaho': -0.02174183641102348,\n",
       " 'Illinois': -0.022505141692996868,\n",
       " 'Indiana': -0.0005259810451446745,\n",
       " 'Kansas': 0.007282223979073067,\n",
       " 'Kentucky': 0.0008248140668348086,\n",
       " 'Louisiana': -0.02838687000113499,\n",
       " 'Massachusetts': -0.020600390096106647,\n",
       " 'Maryland': -0.04344567206621641,\n",
       " 'Maine': -0.08745449491279667,\n",
       " 'Michigan': -0.011120985636572295,\n",
       " 'Minnesota': 0.0001722426791944398,\n",
       " 'Missouri': 0.011724826594330294,\n",
       " 'Mississippi': -0.0051492125271358005,\n",
       " 'Montana': 0.0029040539791703596,\n",
       " 'North Carolina': -0.023907360215902493,\n",
       " 'North Dakota': -0.00921529597027005,\n",
       " 'Nebraska': -0.0026881202668018944,\n",
       " 'New Hampshire': -0.1716365166038929,\n",
       " 'New Jersey': 0.03965631270167622,\n",
       " 'New Mexico': -0.037580742456718094,\n",
       " 'Nevada': 0.03596693355172652,\n",
       " 'New York': 0.0016452085586342036,\n",
       " 'Ohio': 0.0015440047419635339,\n",
       " 'Oklahoma': -0.012270560261668404,\n",
       " 'Oregon': 0.009403734802694186,\n",
       " 'Pennsylvania': -0.02132814813421216,\n",
       " 'Rhode Island': 0.042031112804031545,\n",
       " 'South Carolina': -0.004433994148810391,\n",
       " 'South Dakota': -0.0195108760423664,\n",
       " 'Tennessee': -0.018626118113592573,\n",
       " 'Texas': -0.01651464600563217,\n",
       " 'Utah': -0.08199323467956879,\n",
       " 'Virginia': -0.022861004994606627,\n",
       " 'Vermont': 0.0029657995280110636,\n",
       " 'Washington': 0.009028328325471673,\n",
       " 'Wisconsin': 0.022425596577434592,\n",
       " 'West Virginia': 0.005134154991203947,\n",
       " 'Wyoming': -0.037042414376888516}"
      ]
     },
     "execution_count": 8,
     "metadata": {},
     "output_type": "execute_result"
    }
   ],
   "source": [
    "def regression_by_state(state_name, data, predictors, target):\n",
    "    state_data = data[data['state'] == state_name]\n",
    "    state_target = state_data[target]\n",
    "    state_features = state_data[predictors]\n",
    "    state_features = sm.add_constant(state_features)\n",
    "    state_model = sm.OLS(state_target, state_features).fit()\n",
    "    bb_int_coef = state_model.params['pct_dg_bb_int']\n",
    "\n",
    "    return state_model, bb_int_coef\n",
    "\n",
    "state_coef = {}\n",
    "\n",
    "for state in df['state'].unique():\n",
    "    state_model, bb_int_coef = regression_by_state(state, df, features, target)\n",
    "    state_coef[state] = bb_int_coef\n",
    "\n",
    "state_coef\n"
   ]
  },
  {
   "cell_type": "markdown",
   "metadata": {},
   "source": [
    "# Machine Learning : Alternative Models"
   ]
  },
  {
   "cell_type": "code",
   "execution_count": 9,
   "metadata": {},
   "outputs": [],
   "source": [
    "#Alternative ML models with GridSearchCV\n",
    "\n",
    "# models = {\n",
    "#     'Decision Tree': DecisionTreeRegressor(),\n",
    "#     'Random Forest': RandomForestRegressor(),\n",
    "#     'Gradient Boosting': GradientBoostingRegressor(),\n",
    "#     'K-Nearest Neighbors': KNeighborsRegressor(),\n",
    "#     'Multi-Layer Perceptron': MLPRegressor()\n",
    "# }\n",
    "\n",
    "\n",
    "# dt_params = {\n",
    "#     'max_depth': [2, 3, 4, 5, 6, 7, 8, 9, 10],\n",
    "#     'min_samples_split': [2, 3, 4, 5, 6, 7, 8, 9, 10],\n",
    "#     'min_samples_leaf': [1, 2, 3, 4, 5, 6, 7, 8, 9 ,10]\n",
    "# }\n",
    "\n",
    "# rf_params = {\n",
    "#     'n_estimators': [50, 150],\n",
    "#     'max_depth': [2, 5, 10],\n",
    "#     'min_samples_split': [2, 5, 10],\n",
    "#     'min_samples_leaf': [1, 2, 6, 10]\n",
    "# }\n",
    "\n",
    "# gb_params = {\n",
    "#     'n_estimators': [50, 150],\n",
    "#     'max_depth': [2, 5, 10],\n",
    "#     'min_samples_split': [2, 5, 10],\n",
    "#     'min_samples_leaf': [1, 2, 6, 10],\n",
    "#     'learning_rate': [0.01, 0.1]\n",
    "# }\n",
    "\n",
    "# knn_params = {\n",
    "#     'n_neighbors': [3, 5, 7],\n",
    "#     'weights': ['uniform', 'distance'],\n",
    "#     'p': [1, 2]\n",
    "# }\n",
    "\n",
    "# mlp_params = {\n",
    "#     'hidden_layer_sizes': [(10,), (20,), (30,), (40,), (50,)],\n",
    "#     'activation': ['relu'],\n",
    "#     'solver': ['adam'],\n",
    "#     'learning_rate': ['constant', 'adaptive']\n",
    "# }\n",
    "\n",
    "# params = {\n",
    "#     'Decision Tree': dt_params,\n",
    "#     'Random Forest': rf_params,\n",
    "#     'Gradient Boosting': gb_params,\n",
    "#     'K-Nearest Neighbors': knn_params,\n",
    "#     'Multi-Layer Perceptron': mlp_params\n",
    "# }\n"
   ]
  },
  {
   "cell_type": "code",
   "execution_count": 10,
   "metadata": {},
   "outputs": [],
   "source": [
    "# for model_name, model in models.items():\n",
    "#     print('Model:', model_name)\n",
    "#     grid_search = GridSearchCV(model, params[model_name], cv=15, scoring='neg_mean_absolute_error', verbose=1, n_jobs=-1)\n",
    "#     grid_search.fit(x, y)\n",
    "#     print('Best Parameters:', grid_search.best_params_)\n",
    "#     print('Best Score:', -grid_search.best_score_)\n",
    "#     print()"
   ]
  },
  {
   "cell_type": "markdown",
   "metadata": {},
   "source": [
    "Model: Decision Tree\n",
    "Fitting 15 folds for each of 810 candidates, totalling 12150 fits\n",
    "Best Parameters: {'max_depth': 10, 'min_samples_leaf': 9, 'min_samples_split': 2}\n",
    "Best Score: 0.6734945711092055\n",
    "\n",
    "Model: Random Forest\n",
    "Fitting 15 folds for each of 72 candidates, totalling 1080 fits\n",
    "Best Parameters: {'max_depth': 10, 'min_samples_leaf': 1, 'min_samples_split': 5, 'n_estimators': 150}\n",
    "Best Score: 0.5262649520665891\n",
    "\n",
    "Model: Gradient Boosting\n",
    "Fitting 15 folds for each of 144 candidates, totalling 2160 fits\n",
    "Best Parameters: {'learning_rate': 0.1, 'max_depth': 2, 'min_samples_leaf': 1, 'min_samples_split': 5, 'n_estimators': 150}\n",
    "Best Score: 0.5097996372360977\n",
    "\n",
    "Model: K-Nearest Neighbors\n",
    "Fitting 15 folds for each of 12 candidates, totalling 180 fits\n",
    "Best Parameters: {'n_neighbors': 7, 'p': 1, 'weights': 'distance'}\n",
    "Best Score: 0.5438632275828476\n",
    "\n",
    "Model: Multi-Layer Perceptron\n",
    "Fitting 15 folds for each of 10 candidates, totalling 150 fits\n",
    "Best Parameters: {'activation': 'relu', 'hidden_layer_sizes': (40,), 'learning_rate': 'adaptive', 'solver': 'adam'}\n",
    "Best Score: 0.48095450827868647"
   ]
  },
  {
   "cell_type": "code",
   "execution_count": 11,
   "metadata": {},
   "outputs": [],
   "source": [
    "# RandomSearchCV\n",
    "\n",
    "# from sklearn.model_selection import RandomizedSearchCV\n",
    "\n",
    "# for model_name, model in models.items():\n",
    "#     print('Model:', model_name)\n",
    "#     random_search = RandomizedSearchCV(model, params[model_name], cv=15, scoring='neg_mean_absolute_error', verbose=1, n_jobs=-1)\n",
    "#     random_search.fit(x, y)\n",
    "#     print('Best Parameters:', random_search.best_params_)\n",
    "#     print('Best Score:', -random_search.best_score_)\n",
    "#     print()"
   ]
  },
  {
   "cell_type": "markdown",
   "metadata": {},
   "source": [
    "Model: Linear Regression\n",
    "Fitting 15 folds for each of 1 candidates, totalling 15 fits\n",
    "Best Parameters: {'fit_intercept': True}\n",
    "Best Score: 0.6034274009228865\n",
    "\n",
    "Model: Decision Tree\n",
    "Fitting 15 folds for each of 10 candidates, totalling 150 fits\n",
    "Best Parameters: {'min_samples_split': 8, 'min_samples_leaf': 5, 'max_depth': 10}\n",
    "Best Score: 0.6823770482656772\n",
    "\n",
    "Model: Random Forest\n",
    "Fitting 15 folds for each of 10 candidates, totalling 150 fits\n",
    "Best Parameters: {'n_estimators': 150, 'min_samples_split': 2, 'min_samples_leaf': 1, 'max_depth': 10}\n",
    "Best Score: 0.5280400874120184\n",
    "\n",
    "Model: Gradient Boosting\n",
    "Fitting 15 folds for each of 10 candidates, totalling 150 fits\n",
    "Best Parameters: {'n_estimators': 150, 'min_samples_split': 5, 'min_samples_leaf': 2, 'max_depth': 2, 'learning_rate': 0.1}\n",
    "Best Score: 0.5110764727785839\n",
    "\n",
    "Model: K-Nearest Neighbors\n",
    "Fitting 15 folds for each of 10 candidates, totalling 150 fits\n",
    "Best Parameters: {'weights': 'distance', 'p': 1, 'n_neighbors': 7}\n",
    "Best Score: 0.5438632275828476\n",
    "\n",
    "Model: Multi-Layer Perceptron\n",
    "Fitting 15 folds for each of 10 candidates, totalling 150 fits\n",
    "Best Parameters: {'solver': 'adam', 'learning_rate': 'adaptive', 'hidden_layer_sizes': (40,), 'activation': 'relu'}\n",
    "Best Score: 0.47733495977365\n"
   ]
  },
  {
   "cell_type": "code",
   "execution_count": 12,
   "metadata": {},
   "outputs": [
    {
     "name": "stdout",
     "output_type": "stream",
     "text": [
      "Fitting 15 folds for each of 10 candidates, totalling 150 fits\n"
     ]
    },
    {
     "name": "stdout",
     "output_type": "stream",
     "text": [
      "Best Parameters: {'solver': 'adam', 'learning_rate': 'adaptive', 'hidden_layer_sizes': (40, 10, 4), 'early_stopping': True, 'alpha': 0.1, 'activation': 'relu'}\n",
      "Best Score: 0.5380674037145875\n",
      "\n"
     ]
    }
   ],
   "source": [
    "#additional MLP parameters \n",
    "mlp_params = {\n",
    "    'hidden_layer_sizes': [(80,40,5), (40,20,10), (40,), (40,10,4)],\n",
    "    'activation': ['relu'],\n",
    "    'solver': ['adam'],\n",
    "    'learning_rate': ['constant', 'adaptive'],\n",
    "    'alpha': [0.0001, 0.001, 0.01, 0.1],\n",
    "    'early_stopping': [True]\n",
    "}\n",
    "\n",
    "mlp = MLPRegressor()\n",
    "\n",
    "mlp_random_search = RandomizedSearchCV(mlp, mlp_params, cv=15, scoring='neg_mean_absolute_error', verbose=1, n_jobs=-1)\n",
    "mlp_random_search.fit(X, y)\n",
    "print('Best Parameters:', mlp_random_search.best_params_)\n",
    "print('Best Score:', -mlp_random_search.best_score_)\n",
    "print()\n",
    "\n"
   ]
  },
  {
   "cell_type": "markdown",
   "metadata": {},
   "source": [
    "# MLP Predictive Capabilities and Cross-Fold Validation"
   ]
  },
  {
   "cell_type": "code",
   "execution_count": 13,
   "metadata": {},
   "outputs": [
    {
     "name": "stdout",
     "output_type": "stream",
     "text": [
      "R2 Mean: 0.9125859466652979\n",
      "RMSE Mean: 0.6634980851044062\n",
      "MAE Mean: 0.5093113053207143\n"
     ]
    }
   ],
   "source": [
    "#best model from hyperparameter tuning\n",
    "model = MLPRegressor(activation='relu', hidden_layer_sizes=(40, 10, 4), learning_rate='constant', solver='adam', max_iter=1000, random_state=42, early_stopping=True, alpha=0.0001)\n",
    "cv = RepeatedKFold(n_splits=10, n_repeats=3, random_state=42)\n",
    "cv_r2 = cross_val_score(model, X, y, cv=cv, scoring='r2', n_jobs=-1)\n",
    "cv_rmse = cross_val_score(model, X, y, cv=cv, scoring='neg_root_mean_squared_error', n_jobs=-1)\n",
    "cv_abs_error = cross_val_score(model, X, y, cv=cv, scoring='neg_mean_absolute_error', n_jobs=-1)\n",
    "\n",
    "print('R2 Mean:', cv_r2.mean())\n",
    "print('RMSE Mean:', -cv_rmse.mean())\n",
    "print('MAE Mean:', -cv_abs_error.mean())\n"
   ]
  },
  {
   "cell_type": "markdown",
   "metadata": {},
   "source": [
    "# OLS Predictive Capabilities and Cross-fold validation"
   ]
  },
  {
   "cell_type": "code",
   "execution_count": 14,
   "metadata": {},
   "outputs": [
    {
     "name": "stdout",
     "output_type": "stream",
     "text": [
      "R2 Mean: 0.9029289519927749\n",
      "RMSE Mean: 0.6998194188651131\n",
      "MAE Mean: 0.5387643644848027\n"
     ]
    }
   ],
   "source": [
    "#linear model\n",
    "model = LinearRegression(fit_intercept=True)\n",
    "cv = RepeatedKFold(n_splits=10, n_repeats=3, random_state=42)\n",
    "cv_r2 = cross_val_score(model, X, y, cv=cv, scoring='r2', n_jobs=-1)\n",
    "cv_rmse = cross_val_score(model, X, y, cv=cv, scoring='neg_root_mean_squared_error', n_jobs=-1)\n",
    "cv_abs_error = cross_val_score(model, X, y, cv=cv, scoring='neg_mean_absolute_error', n_jobs=-1)\n",
    "\n",
    "print('R2 Mean:', cv_r2.mean())\n",
    "print('RMSE Mean:', -cv_rmse.mean())\n",
    "print('MAE Mean:', -cv_abs_error.mean())\n"
   ]
  },
  {
   "cell_type": "code",
   "execution_count": 19,
   "metadata": {},
   "outputs": [
    {
     "name": "stderr",
     "output_type": "stream",
     "text": [
      "[I 2023-12-04 08:08:46,640] A new study created in memory with name: no-name-fe0732e8-a75e-447f-9b06-79f6dd6f8be3\n",
      "C:\\Users\\mfarm\\AppData\\Local\\Temp\\ipykernel_6324\\2628198864.py:9: FutureWarning:\n",
      "\n",
      "suggest_loguniform has been deprecated in v3.0.0. This feature will be removed in v6.0.0. See https://github.com/optuna/optuna/releases/tag/v3.0.0. Use suggest_float(..., log=True) instead.\n",
      "\n",
      "[I 2023-12-04 08:08:56,765] Trial 0 finished with value: -0.5003002192965016 and parameters: {'activation': 'relu', 'solver': 'adam', 'learning_rate': 'constant', 'alpha': 0.004878476695470025, 'early_stopping': True, 'n_layers': 5, 'hidden_layer_0': 54, 'hidden_layer_1': 36, 'hidden_layer_2': 90, 'hidden_layer_3': 76, 'hidden_layer_4': 28}. Best is trial 0 with value: -0.5003002192965016.\n",
      "[I 2023-12-04 08:09:03,697] Trial 1 finished with value: -0.5321366553108405 and parameters: {'activation': 'relu', 'solver': 'adam', 'learning_rate': 'adaptive', 'alpha': 0.004285083461875077, 'early_stopping': True, 'n_layers': 4, 'hidden_layer_0': 15, 'hidden_layer_1': 5, 'hidden_layer_2': 79, 'hidden_layer_3': 71}. Best is trial 0 with value: -0.5003002192965016.\n",
      "[I 2023-12-04 08:09:11,684] Trial 2 finished with value: -0.49181540594665324 and parameters: {'activation': 'relu', 'solver': 'adam', 'learning_rate': 'adaptive', 'alpha': 0.019576579734165465, 'early_stopping': True, 'n_layers': 6, 'hidden_layer_0': 89, 'hidden_layer_1': 63, 'hidden_layer_2': 63, 'hidden_layer_3': 19, 'hidden_layer_4': 96, 'hidden_layer_5': 74}. Best is trial 2 with value: -0.49181540594665324.\n",
      "[I 2023-12-04 08:09:13,443] Trial 3 finished with value: -0.5168957895256152 and parameters: {'activation': 'relu', 'solver': 'adam', 'learning_rate': 'constant', 'alpha': 0.00025495653198857947, 'early_stopping': True, 'n_layers': 1, 'hidden_layer_0': 88}. Best is trial 2 with value: -0.49181540594665324.\n",
      "[I 2023-12-04 08:09:18,309] Trial 4 finished with value: -0.5044110894204258 and parameters: {'activation': 'relu', 'solver': 'adam', 'learning_rate': 'adaptive', 'alpha': 0.06740248827840126, 'early_stopping': True, 'n_layers': 4, 'hidden_layer_0': 59, 'hidden_layer_1': 45, 'hidden_layer_2': 62, 'hidden_layer_3': 86}. Best is trial 2 with value: -0.49181540594665324.\n",
      "[I 2023-12-04 08:09:20,719] Trial 5 finished with value: -0.5050699732467508 and parameters: {'activation': 'relu', 'solver': 'adam', 'learning_rate': 'constant', 'alpha': 0.0035769294675028233, 'early_stopping': True, 'n_layers': 2, 'hidden_layer_0': 34, 'hidden_layer_1': 83}. Best is trial 2 with value: -0.49181540594665324.\n",
      "[I 2023-12-04 08:09:25,310] Trial 6 finished with value: -0.4953693595157953 and parameters: {'activation': 'relu', 'solver': 'adam', 'learning_rate': 'constant', 'alpha': 0.0011460684593574942, 'early_stopping': True, 'n_layers': 4, 'hidden_layer_0': 60, 'hidden_layer_1': 32, 'hidden_layer_2': 68, 'hidden_layer_3': 40}. Best is trial 2 with value: -0.49181540594665324.\n",
      "[I 2023-12-04 08:09:29,739] Trial 7 finished with value: -0.5003129318573474 and parameters: {'activation': 'relu', 'solver': 'adam', 'learning_rate': 'adaptive', 'alpha': 0.030455402723901164, 'early_stopping': True, 'n_layers': 4, 'hidden_layer_0': 31, 'hidden_layer_1': 80, 'hidden_layer_2': 16, 'hidden_layer_3': 35}. Best is trial 2 with value: -0.49181540594665324.\n",
      "[I 2023-12-04 08:09:36,392] Trial 8 finished with value: -0.5243666560969956 and parameters: {'activation': 'relu', 'solver': 'adam', 'learning_rate': 'constant', 'alpha': 0.014260828280025967, 'early_stopping': True, 'n_layers': 4, 'hidden_layer_0': 12, 'hidden_layer_1': 100, 'hidden_layer_2': 72, 'hidden_layer_3': 44}. Best is trial 2 with value: -0.49181540594665324.\n",
      "[I 2023-12-04 08:09:38,907] Trial 9 finished with value: -0.5465808039403353 and parameters: {'activation': 'relu', 'solver': 'adam', 'learning_rate': 'constant', 'alpha': 0.007099310277952574, 'early_stopping': True, 'n_layers': 1, 'hidden_layer_0': 22}. Best is trial 2 with value: -0.49181540594665324.\n",
      "[I 2023-12-04 08:09:41,586] Trial 10 finished with value: -1.7506815665467212 and parameters: {'activation': 'relu', 'solver': 'adam', 'learning_rate': 'adaptive', 'alpha': 0.09848121165789397, 'early_stopping': True, 'n_layers': 6, 'hidden_layer_0': 100, 'hidden_layer_1': 63, 'hidden_layer_2': 33, 'hidden_layer_3': 1, 'hidden_layer_4': 99, 'hidden_layer_5': 76}. Best is trial 2 with value: -0.49181540594665324.\n",
      "[I 2023-12-04 08:09:49,069] Trial 11 finished with value: -0.4959858112213008 and parameters: {'activation': 'relu', 'solver': 'adam', 'learning_rate': 'adaptive', 'alpha': 0.0007752796189664234, 'early_stopping': True, 'n_layers': 6, 'hidden_layer_0': 74, 'hidden_layer_1': 22, 'hidden_layer_2': 47, 'hidden_layer_3': 15, 'hidden_layer_4': 100, 'hidden_layer_5': 29}. Best is trial 2 with value: -0.49181540594665324.\n",
      "[I 2023-12-04 08:09:53,282] Trial 12 finished with value: -0.4983218024858448 and parameters: {'activation': 'relu', 'solver': 'adam', 'learning_rate': 'adaptive', 'alpha': 0.0011468543335829962, 'early_stopping': True, 'n_layers': 3, 'hidden_layer_0': 74, 'hidden_layer_1': 60, 'hidden_layer_2': 51}. Best is trial 2 with value: -0.49181540594665324.\n",
      "[I 2023-12-04 08:09:59,765] Trial 13 finished with value: -0.49488274049713554 and parameters: {'activation': 'relu', 'solver': 'adam', 'learning_rate': 'constant', 'alpha': 0.0011417105384939712, 'early_stopping': True, 'n_layers': 5, 'hidden_layer_0': 75, 'hidden_layer_1': 32, 'hidden_layer_2': 93, 'hidden_layer_3': 27, 'hidden_layer_4': 61}. Best is trial 2 with value: -0.49181540594665324.\n",
      "[I 2023-12-04 08:10:08,571] Trial 14 finished with value: -0.4852180964610822 and parameters: {'activation': 'relu', 'solver': 'adam', 'learning_rate': 'constant', 'alpha': 0.01563781954685905, 'early_stopping': True, 'n_layers': 6, 'hidden_layer_0': 81, 'hidden_layer_1': 20, 'hidden_layer_2': 99, 'hidden_layer_3': 20, 'hidden_layer_4': 61, 'hidden_layer_5': 100}. Best is trial 14 with value: -0.4852180964610822.\n",
      "[I 2023-12-04 08:10:14,307] Trial 15 finished with value: -0.5107296201918284 and parameters: {'activation': 'relu', 'solver': 'adam', 'learning_rate': 'adaptive', 'alpha': 0.016109412605936832, 'early_stopping': True, 'n_layers': 6, 'hidden_layer_0': 100, 'hidden_layer_1': 14, 'hidden_layer_2': 99, 'hidden_layer_3': 15, 'hidden_layer_4': 66, 'hidden_layer_5': 99}. Best is trial 14 with value: -0.4852180964610822.\n",
      "[I 2023-12-04 08:10:22,112] Trial 16 finished with value: -0.4955686173657113 and parameters: {'activation': 'relu', 'solver': 'adam', 'learning_rate': 'adaptive', 'alpha': 0.03143507877226979, 'early_stopping': True, 'n_layers': 5, 'hidden_layer_0': 88, 'hidden_layer_1': 55, 'hidden_layer_2': 13, 'hidden_layer_3': 58, 'hidden_layer_4': 78}. Best is trial 14 with value: -0.4852180964610822.\n",
      "[I 2023-12-04 08:10:29,715] Trial 17 finished with value: -0.5030915231252967 and parameters: {'activation': 'relu', 'solver': 'adam', 'learning_rate': 'constant', 'alpha': 0.012122069958173876, 'early_stopping': True, 'n_layers': 6, 'hidden_layer_0': 43, 'hidden_layer_1': 74, 'hidden_layer_2': 82, 'hidden_layer_3': 7, 'hidden_layer_4': 34, 'hidden_layer_5': 78}. Best is trial 14 with value: -0.4852180964610822.\n",
      "[I 2023-12-04 08:10:37,589] Trial 18 finished with value: -0.4938076626466871 and parameters: {'activation': 'relu', 'solver': 'adam', 'learning_rate': 'adaptive', 'alpha': 0.04387163412865764, 'early_stopping': True, 'n_layers': 5, 'hidden_layer_0': 86, 'hidden_layer_1': 47, 'hidden_layer_2': 33, 'hidden_layer_3': 26, 'hidden_layer_4': 5}. Best is trial 14 with value: -0.4852180964610822.\n",
      "[I 2023-12-04 08:10:53,222] Trial 19 finished with value: -0.5051518450961076 and parameters: {'activation': 'relu', 'solver': 'adam', 'learning_rate': 'constant', 'alpha': 0.009378655314136048, 'early_stopping': True, 'n_layers': 6, 'hidden_layer_0': 67, 'hidden_layer_1': 1, 'hidden_layer_2': 55, 'hidden_layer_3': 51, 'hidden_layer_4': 80, 'hidden_layer_5': 100}. Best is trial 14 with value: -0.4852180964610822.\n",
      "[I 2023-12-04 08:10:57,382] Trial 20 finished with value: -0.5001796313619199 and parameters: {'activation': 'relu', 'solver': 'adam', 'learning_rate': 'adaptive', 'alpha': 0.022173139803363415, 'early_stopping': True, 'n_layers': 3, 'hidden_layer_0': 82, 'hidden_layer_1': 68, 'hidden_layer_2': 38}. Best is trial 14 with value: -0.4852180964610822.\n",
      "[I 2023-12-04 08:11:04,724] Trial 21 finished with value: -0.5029809333264597 and parameters: {'activation': 'relu', 'solver': 'adam', 'learning_rate': 'adaptive', 'alpha': 0.051225079307040025, 'early_stopping': True, 'n_layers': 5, 'hidden_layer_0': 89, 'hidden_layer_1': 45, 'hidden_layer_2': 27, 'hidden_layer_3': 28, 'hidden_layer_4': 5}. Best is trial 14 with value: -0.4852180964610822.\n",
      "[I 2023-12-04 08:11:09,602] Trial 22 finished with value: -0.5039894678318916 and parameters: {'activation': 'relu', 'solver': 'adam', 'learning_rate': 'adaptive', 'alpha': 0.04087628157321262, 'early_stopping': True, 'n_layers': 5, 'hidden_layer_0': 94, 'hidden_layer_1': 18, 'hidden_layer_2': 4, 'hidden_layer_3': 21, 'hidden_layer_4': 2}. Best is trial 14 with value: -0.4852180964610822.\n",
      "[I 2023-12-04 08:11:16,207] Trial 23 finished with value: -0.4968751876680694 and parameters: {'activation': 'relu', 'solver': 'adam', 'learning_rate': 'adaptive', 'alpha': 0.02200379683728339, 'early_stopping': True, 'n_layers': 6, 'hidden_layer_0': 81, 'hidden_layer_1': 49, 'hidden_layer_2': 41, 'hidden_layer_3': 12, 'hidden_layer_4': 37, 'hidden_layer_5': 62}. Best is trial 14 with value: -0.4852180964610822.\n",
      "[I 2023-12-04 08:11:28,936] Trial 24 finished with value: -0.557002665653109 and parameters: {'activation': 'relu', 'solver': 'adam', 'learning_rate': 'adaptive', 'alpha': 0.09868446892067796, 'early_stopping': True, 'n_layers': 5, 'hidden_layer_0': 3, 'hidden_layer_1': 39, 'hidden_layer_2': 29, 'hidden_layer_3': 30, 'hidden_layer_4': 50}. Best is trial 14 with value: -0.4852180964610822.\n",
      "[I 2023-12-04 08:12:36,784] Trial 25 finished with value: -1.7385000010275118 and parameters: {'activation': 'relu', 'solver': 'adam', 'learning_rate': 'adaptive', 'alpha': 0.047323893960792895, 'early_stopping': True, 'n_layers': 6, 'hidden_layer_0': 66, 'hidden_layer_1': 27, 'hidden_layer_2': 61, 'hidden_layer_3': 21, 'hidden_layer_4': 18, 'hidden_layer_5': 1}. Best is trial 14 with value: -0.4852180964610822.\n",
      "[I 2023-12-04 08:12:45,253] Trial 26 finished with value: -0.49335908181077903 and parameters: {'activation': 'relu', 'solver': 'adam', 'learning_rate': 'constant', 'alpha': 0.007566131207457377, 'early_stopping': True, 'n_layers': 5, 'hidden_layer_0': 81, 'hidden_layer_1': 94, 'hidden_layer_2': 19, 'hidden_layer_3': 3, 'hidden_layer_4': 84}. Best is trial 14 with value: -0.4852180964610822.\n",
      "[I 2023-12-04 08:12:55,282] Trial 27 finished with value: -0.5045199442187335 and parameters: {'activation': 'relu', 'solver': 'adam', 'learning_rate': 'constant', 'alpha': 0.007929547816335529, 'early_stopping': True, 'n_layers': 6, 'hidden_layer_0': 43, 'hidden_layer_1': 92, 'hidden_layer_2': 18, 'hidden_layer_3': 1, 'hidden_layer_4': 85, 'hidden_layer_5': 77}. Best is trial 14 with value: -0.4852180964610822.\n",
      "[I 2023-12-04 08:13:02,219] Trial 28 finished with value: -0.48921340189198514 and parameters: {'activation': 'relu', 'solver': 'adam', 'learning_rate': 'constant', 'alpha': 0.006851227490167169, 'early_stopping': True, 'n_layers': 5, 'hidden_layer_0': 68, 'hidden_layer_1': 100, 'hidden_layer_2': 81, 'hidden_layer_3': 10, 'hidden_layer_4': 89}. Best is trial 14 with value: -0.4852180964610822.\n",
      "[I 2023-12-04 08:13:08,518] Trial 29 finished with value: -0.4856599486216198 and parameters: {'activation': 'relu', 'solver': 'adam', 'learning_rate': 'constant', 'alpha': 0.002409233949274021, 'early_stopping': True, 'n_layers': 5, 'hidden_layer_0': 67, 'hidden_layer_1': 84, 'hidden_layer_2': 83, 'hidden_layer_3': 57, 'hidden_layer_4': 92}. Best is trial 14 with value: -0.4852180964610822.\n",
      "[I 2023-12-04 08:13:13,660] Trial 30 finished with value: -0.5145869235993242 and parameters: {'activation': 'relu', 'solver': 'adam', 'learning_rate': 'constant', 'alpha': 0.0024602727549637715, 'early_stopping': True, 'n_layers': 3, 'hidden_layer_0': 51, 'hidden_layer_1': 86, 'hidden_layer_2': 84}. Best is trial 14 with value: -0.4852180964610822.\n",
      "[I 2023-12-04 08:13:22,520] Trial 31 finished with value: -0.49247243143240116 and parameters: {'activation': 'relu', 'solver': 'adam', 'learning_rate': 'constant', 'alpha': 0.0025157299131976798, 'early_stopping': True, 'n_layers': 5, 'hidden_layer_0': 65, 'hidden_layer_1': 74, 'hidden_layer_2': 100, 'hidden_layer_3': 63, 'hidden_layer_4': 91}. Best is trial 14 with value: -0.4852180964610822.\n",
      "[I 2023-12-04 08:13:31,736] Trial 32 finished with value: -0.49086679493802404 and parameters: {'activation': 'relu', 'solver': 'adam', 'learning_rate': 'constant', 'alpha': 0.006914691227801564, 'early_stopping': True, 'n_layers': 6, 'hidden_layer_0': 71, 'hidden_layer_1': 99, 'hidden_layer_2': 75, 'hidden_layer_3': 49, 'hidden_layer_4': 69, 'hidden_layer_5': 51}. Best is trial 14 with value: -0.4852180964610822.\n",
      "[I 2023-12-04 08:13:39,108] Trial 33 finished with value: -0.4885614254100885 and parameters: {'activation': 'relu', 'solver': 'adam', 'learning_rate': 'constant', 'alpha': 0.003917974103896924, 'early_stopping': True, 'n_layers': 5, 'hidden_layer_0': 59, 'hidden_layer_1': 95, 'hidden_layer_2': 90, 'hidden_layer_3': 51, 'hidden_layer_4': 68}. Best is trial 14 with value: -0.4852180964610822.\n",
      "[I 2023-12-04 08:13:44,306] Trial 34 finished with value: -0.4940214449213538 and parameters: {'activation': 'relu', 'solver': 'adam', 'learning_rate': 'constant', 'alpha': 0.00499423248639732, 'early_stopping': True, 'n_layers': 4, 'hidden_layer_0': 56, 'hidden_layer_1': 91, 'hidden_layer_2': 89, 'hidden_layer_3': 59}. Best is trial 14 with value: -0.4852180964610822.\n",
      "[I 2023-12-04 08:13:54,025] Trial 35 finished with value: -0.4927997954675985 and parameters: {'activation': 'relu', 'solver': 'adam', 'learning_rate': 'constant', 'alpha': 0.0037833845654324048, 'early_stopping': True, 'n_layers': 5, 'hidden_layer_0': 46, 'hidden_layer_1': 87, 'hidden_layer_2': 91, 'hidden_layer_3': 98, 'hidden_layer_4': 57}. Best is trial 14 with value: -0.4852180964610822.\n",
      "[I 2023-12-04 08:14:01,065] Trial 36 finished with value: -0.49395571898375895 and parameters: {'activation': 'relu', 'solver': 'adam', 'learning_rate': 'constant', 'alpha': 0.005643597811454829, 'early_stopping': True, 'n_layers': 4, 'hidden_layer_0': 62, 'hidden_layer_1': 77, 'hidden_layer_2': 87, 'hidden_layer_3': 79}. Best is trial 14 with value: -0.4852180964610822.\n",
      "[I 2023-12-04 08:14:05,005] Trial 37 finished with value: -0.5132627371237427 and parameters: {'activation': 'relu', 'solver': 'adam', 'learning_rate': 'constant', 'alpha': 0.01178478004491768, 'early_stopping': True, 'n_layers': 2, 'hidden_layer_0': 54, 'hidden_layer_1': 95}. Best is trial 14 with value: -0.4852180964610822.\n",
      "[I 2023-12-04 08:14:12,283] Trial 38 finished with value: -0.48412770584709036 and parameters: {'activation': 'relu', 'solver': 'adam', 'learning_rate': 'constant', 'alpha': 0.003028838109395251, 'early_stopping': True, 'n_layers': 5, 'hidden_layer_0': 78, 'hidden_layer_1': 87, 'hidden_layer_2': 78, 'hidden_layer_3': 66, 'hidden_layer_4': 70}. Best is trial 38 with value: -0.48412770584709036.\n",
      "[I 2023-12-04 08:14:18,110] Trial 39 finished with value: -0.4983232171229647 and parameters: {'activation': 'relu', 'solver': 'adam', 'learning_rate': 'constant', 'alpha': 0.002780522132906849, 'early_stopping': True, 'n_layers': 4, 'hidden_layer_0': 81, 'hidden_layer_1': 9, 'hidden_layer_2': 95, 'hidden_layer_3': 69}. Best is trial 38 with value: -0.48412770584709036.\n",
      "[I 2023-12-04 08:14:24,296] Trial 40 finished with value: -0.5024815756788531 and parameters: {'activation': 'relu', 'solver': 'adam', 'learning_rate': 'constant', 'alpha': 0.001964940084051511, 'early_stopping': True, 'n_layers': 5, 'hidden_layer_0': 35, 'hidden_layer_1': 69, 'hidden_layer_2': 76, 'hidden_layer_3': 53, 'hidden_layer_4': 74}. Best is trial 38 with value: -0.48412770584709036.\n",
      "[I 2023-12-04 08:14:31,515] Trial 41 finished with value: -0.4897661002436136 and parameters: {'activation': 'relu', 'solver': 'adam', 'learning_rate': 'constant', 'alpha': 0.004476011775938944, 'early_stopping': True, 'n_layers': 5, 'hidden_layer_0': 70, 'hidden_layer_1': 87, 'hidden_layer_2': 80, 'hidden_layer_3': 69, 'hidden_layer_4': 51}. Best is trial 38 with value: -0.48412770584709036.\n",
      "[I 2023-12-04 08:14:36,628] Trial 42 finished with value: -0.48974715237632815 and parameters: {'activation': 'relu', 'solver': 'adam', 'learning_rate': 'constant', 'alpha': 0.0038338163012417836, 'early_stopping': True, 'n_layers': 4, 'hidden_layer_0': 60, 'hidden_layer_1': 82, 'hidden_layer_2': 68, 'hidden_layer_3': 79}. Best is trial 38 with value: -0.48412770584709036.\n",
      "[I 2023-12-04 08:14:46,467] Trial 43 finished with value: -0.48528040617037077 and parameters: {'activation': 'relu', 'solver': 'adam', 'learning_rate': 'constant', 'alpha': 0.0052470065521822, 'early_stopping': True, 'n_layers': 6, 'hidden_layer_0': 78, 'hidden_layer_1': 100, 'hidden_layer_2': 85, 'hidden_layer_3': 44, 'hidden_layer_4': 70, 'hidden_layer_5': 29}. Best is trial 38 with value: -0.48412770584709036.\n",
      "[I 2023-12-04 08:14:55,881] Trial 44 finished with value: -0.4908212046186346 and parameters: {'activation': 'relu', 'solver': 'adam', 'learning_rate': 'constant', 'alpha': 0.004944031988307696, 'early_stopping': True, 'n_layers': 6, 'hidden_layer_0': 78, 'hidden_layer_1': 91, 'hidden_layer_2': 95, 'hidden_layer_3': 43, 'hidden_layer_4': 73, 'hidden_layer_5': 26}. Best is trial 38 with value: -0.48412770584709036.\n",
      "[I 2023-12-04 08:15:04,776] Trial 45 finished with value: -0.49415686281237975 and parameters: {'activation': 'relu', 'solver': 'adam', 'learning_rate': 'constant', 'alpha': 0.0016103924496661827, 'early_stopping': True, 'n_layers': 6, 'hidden_layer_0': 75, 'hidden_layer_1': 96, 'hidden_layer_2': 85, 'hidden_layer_3': 37, 'hidden_layer_4': 61, 'hidden_layer_5': 29}. Best is trial 38 with value: -0.48412770584709036.\n",
      "[I 2023-12-04 08:15:13,968] Trial 46 finished with value: -0.4969299379991944 and parameters: {'activation': 'relu', 'solver': 'adam', 'learning_rate': 'constant', 'alpha': 0.0031248245173378054, 'early_stopping': True, 'n_layers': 6, 'hidden_layer_0': 94, 'hidden_layer_1': 79, 'hidden_layer_2': 69, 'hidden_layer_3': 63, 'hidden_layer_4': 48, 'hidden_layer_5': 11}. Best is trial 38 with value: -0.48412770584709036.\n",
      "[I 2023-12-04 08:15:20,559] Trial 47 finished with value: -0.48782538165112704 and parameters: {'activation': 'relu', 'solver': 'adam', 'learning_rate': 'constant', 'alpha': 0.0037746974956099264, 'early_stopping': True, 'n_layers': 4, 'hidden_layer_0': 85, 'hidden_layer_1': 84, 'hidden_layer_2': 89, 'hidden_layer_3': 47}. Best is trial 38 with value: -0.48412770584709036.\n",
      "[I 2023-12-04 08:15:28,003] Trial 48 finished with value: -0.4932722586379588 and parameters: {'activation': 'relu', 'solver': 'adam', 'learning_rate': 'constant', 'alpha': 0.01075974547402112, 'early_stopping': True, 'n_layers': 4, 'hidden_layer_0': 93, 'hidden_layer_1': 69, 'hidden_layer_2': 74, 'hidden_layer_3': 44}. Best is trial 38 with value: -0.48412770584709036.\n",
      "[I 2023-12-04 08:15:35,493] Trial 49 finished with value: -0.49309397328621324 and parameters: {'activation': 'relu', 'solver': 'adam', 'learning_rate': 'constant', 'alpha': 0.015945427824553517, 'early_stopping': True, 'n_layers': 3, 'hidden_layer_0': 87, 'hidden_layer_1': 88, 'hidden_layer_2': 96}. Best is trial 38 with value: -0.48412770584709036.\n",
      "[I 2023-12-04 08:15:38,963] Trial 50 finished with value: -0.5121960876854014 and parameters: {'activation': 'relu', 'solver': 'adam', 'learning_rate': 'constant', 'alpha': 0.006006545844288386, 'early_stopping': True, 'n_layers': 2, 'hidden_layer_0': 77, 'hidden_layer_1': 56}. Best is trial 38 with value: -0.48412770584709036.\n",
      "[I 2023-12-04 08:15:46,423] Trial 51 finished with value: -0.4919486199520581 and parameters: {'activation': 'relu', 'solver': 'adam', 'learning_rate': 'constant', 'alpha': 0.003781087802206949, 'early_stopping': True, 'n_layers': 5, 'hidden_layer_0': 72, 'hidden_layer_1': 85, 'hidden_layer_2': 89, 'hidden_layer_3': 54, 'hidden_layer_4': 67}. Best is trial 38 with value: -0.48412770584709036.\n",
      "[I 2023-12-04 08:15:54,412] Trial 52 finished with value: -0.48804171587245143 and parameters: {'activation': 'relu', 'solver': 'adam', 'learning_rate': 'constant', 'alpha': 0.0017769346790559534, 'early_stopping': True, 'n_layers': 5, 'hidden_layer_0': 84, 'hidden_layer_1': 97, 'hidden_layer_2': 78, 'hidden_layer_3': 48, 'hidden_layer_4': 56}. Best is trial 38 with value: -0.48412770584709036.\n",
      "[I 2023-12-04 08:16:02,466] Trial 53 finished with value: -0.49190717024513636 and parameters: {'activation': 'relu', 'solver': 'adam', 'learning_rate': 'constant', 'alpha': 0.0015852765168204344, 'early_stopping': True, 'n_layers': 6, 'hidden_layer_0': 84, 'hidden_layer_1': 39, 'hidden_layer_2': 79, 'hidden_layer_3': 35, 'hidden_layer_4': 55, 'hidden_layer_5': 44}. Best is trial 38 with value: -0.48412770584709036.\n",
      "[I 2023-12-04 08:16:08,391] Trial 54 finished with value: -0.491541786151748 and parameters: {'activation': 'relu', 'solver': 'adam', 'learning_rate': 'constant', 'alpha': 0.0009079715349005195, 'early_stopping': True, 'n_layers': 4, 'hidden_layer_0': 90, 'hidden_layer_1': 82, 'hidden_layer_2': 70, 'hidden_layer_3': 47}. Best is trial 38 with value: -0.48412770584709036.\n",
      "[I 2023-12-04 08:16:16,431] Trial 55 finished with value: -0.4847459970845486 and parameters: {'activation': 'relu', 'solver': 'adam', 'learning_rate': 'constant', 'alpha': 0.0019948030877480942, 'early_stopping': True, 'n_layers': 6, 'hidden_layer_0': 96, 'hidden_layer_1': 75, 'hidden_layer_2': 59, 'hidden_layer_3': 64, 'hidden_layer_4': 47, 'hidden_layer_5': 44}. Best is trial 38 with value: -0.48412770584709036.\n",
      "[I 2023-12-04 08:16:23,681] Trial 56 finished with value: -0.49419267160709357 and parameters: {'activation': 'relu', 'solver': 'adam', 'learning_rate': 'constant', 'alpha': 0.0030098629632146537, 'early_stopping': True, 'n_layers': 6, 'hidden_layer_0': 98, 'hidden_layer_1': 73, 'hidden_layer_2': 59, 'hidden_layer_3': 74, 'hidden_layer_4': 45, 'hidden_layer_5': 42}. Best is trial 38 with value: -0.48412770584709036.\n",
      "[I 2023-12-04 08:16:30,253] Trial 57 finished with value: -0.4974770929329017 and parameters: {'activation': 'relu', 'solver': 'adam', 'learning_rate': 'constant', 'alpha': 0.002305185665779268, 'early_stopping': True, 'n_layers': 6, 'hidden_layer_0': 92, 'hidden_layer_1': 63, 'hidden_layer_2': 65, 'hidden_layer_3': 63, 'hidden_layer_4': 43, 'hidden_layer_5': 55}. Best is trial 38 with value: -0.48412770584709036.\n",
      "[I 2023-12-04 08:16:41,066] Trial 58 finished with value: -0.49567339684642914 and parameters: {'activation': 'relu', 'solver': 'adam', 'learning_rate': 'constant', 'alpha': 0.000588606051104689, 'early_stopping': True, 'n_layers': 6, 'hidden_layer_0': 98, 'hidden_layer_1': 78, 'hidden_layer_2': 85, 'hidden_layer_3': 88, 'hidden_layer_4': 94, 'hidden_layer_5': 37}. Best is trial 38 with value: -0.48412770584709036.\n",
      "[I 2023-12-04 08:16:44,311] Trial 59 finished with value: -0.5207649257851504 and parameters: {'activation': 'relu', 'solver': 'adam', 'learning_rate': 'constant', 'alpha': 0.008909352850961155, 'early_stopping': True, 'n_layers': 1, 'hidden_layer_0': 79}. Best is trial 38 with value: -0.48412770584709036.\n",
      "[I 2023-12-04 08:16:51,766] Trial 60 finished with value: -0.4936403889370387 and parameters: {'activation': 'relu', 'solver': 'adam', 'learning_rate': 'constant', 'alpha': 0.003103982456191562, 'early_stopping': True, 'n_layers': 6, 'hidden_layer_0': 96, 'hidden_layer_1': 90, 'hidden_layer_2': 50, 'hidden_layer_3': 57, 'hidden_layer_4': 62, 'hidden_layer_5': 19}. Best is trial 38 with value: -0.48412770584709036.\n",
      "[I 2023-12-04 08:16:57,164] Trial 61 finished with value: -0.49128307413305816 and parameters: {'activation': 'relu', 'solver': 'adam', 'learning_rate': 'constant', 'alpha': 0.0019319461041948777, 'early_stopping': True, 'n_layers': 5, 'hidden_layer_0': 83, 'hidden_layer_1': 98, 'hidden_layer_2': 76, 'hidden_layer_3': 40, 'hidden_layer_4': 57}. Best is trial 38 with value: -0.48412770584709036.\n",
      "[I 2023-12-04 08:17:04,830] Trial 62 finished with value: -0.48422628497929215 and parameters: {'activation': 'relu', 'solver': 'adam', 'learning_rate': 'constant', 'alpha': 0.0014170551234533363, 'early_stopping': True, 'n_layers': 5, 'hidden_layer_0': 85, 'hidden_layer_1': 93, 'hidden_layer_2': 93, 'hidden_layer_3': 66, 'hidden_layer_4': 42}. Best is trial 38 with value: -0.48412770584709036.\n",
      "[I 2023-12-04 08:17:14,491] Trial 63 finished with value: -0.4874880864523368 and parameters: {'activation': 'relu', 'solver': 'adam', 'learning_rate': 'constant', 'alpha': 0.001526897457578252, 'early_stopping': True, 'n_layers': 6, 'hidden_layer_0': 87, 'hidden_layer_1': 84, 'hidden_layer_2': 99, 'hidden_layer_3': 66, 'hidden_layer_4': 40, 'hidden_layer_5': 63}. Best is trial 38 with value: -0.48412770584709036.\n",
      "[I 2023-12-04 08:17:24,411] Trial 64 finished with value: -0.49764704232817486 and parameters: {'activation': 'relu', 'solver': 'adam', 'learning_rate': 'constant', 'alpha': 0.0024229378924685895, 'early_stopping': True, 'n_layers': 6, 'hidden_layer_0': 90, 'hidden_layer_1': 93, 'hidden_layer_2': 100, 'hidden_layer_3': 67, 'hidden_layer_4': 38, 'hidden_layer_5': 88}. Best is trial 38 with value: -0.48412770584709036.\n",
      "[I 2023-12-04 08:17:32,217] Trial 65 finished with value: -0.4921195394679053 and parameters: {'activation': 'relu', 'solver': 'adam', 'learning_rate': 'constant', 'alpha': 0.0013065588212015512, 'early_stopping': True, 'n_layers': 6, 'hidden_layer_0': 76, 'hidden_layer_1': 24, 'hidden_layer_2': 93, 'hidden_layer_3': 73, 'hidden_layer_4': 31, 'hidden_layer_5': 65}. Best is trial 38 with value: -0.48412770584709036.\n",
      "[I 2023-12-04 08:17:39,519] Trial 66 finished with value: -0.4868268909259093 and parameters: {'activation': 'relu', 'solver': 'adam', 'learning_rate': 'constant', 'alpha': 0.0011318594968058031, 'early_stopping': True, 'n_layers': 6, 'hidden_layer_0': 87, 'hidden_layer_1': 81, 'hidden_layer_2': 98, 'hidden_layer_3': 60, 'hidden_layer_4': 27, 'hidden_layer_5': 38}. Best is trial 38 with value: -0.48412770584709036.\n",
      "[I 2023-12-04 08:17:48,610] Trial 67 finished with value: -0.49106744329679514 and parameters: {'activation': 'relu', 'solver': 'adam', 'learning_rate': 'constant', 'alpha': 0.0012006898748315085, 'early_stopping': True, 'n_layers': 6, 'hidden_layer_0': 79, 'hidden_layer_1': 31, 'hidden_layer_2': 94, 'hidden_layer_3': 59, 'hidden_layer_4': 24, 'hidden_layer_5': 37}. Best is trial 38 with value: -0.48412770584709036.\n",
      "[I 2023-12-04 08:17:54,621] Trial 68 finished with value: -0.49813557869254255 and parameters: {'activation': 'relu', 'solver': 'adam', 'learning_rate': 'constant', 'alpha': 0.0008727281543452499, 'early_stopping': True, 'n_layers': 5, 'hidden_layer_0': 73, 'hidden_layer_1': 75, 'hidden_layer_2': 83, 'hidden_layer_3': 77, 'hidden_layer_4': 23}. Best is trial 38 with value: -0.48412770584709036.\n",
      "[I 2023-12-04 08:18:03,769] Trial 69 finished with value: -0.48755751929958924 and parameters: {'activation': 'relu', 'solver': 'adam', 'learning_rate': 'constant', 'alpha': 0.0022283482432934867, 'early_stopping': True, 'n_layers': 6, 'hidden_layer_0': 64, 'hidden_layer_1': 81, 'hidden_layer_2': 43, 'hidden_layer_3': 85, 'hidden_layer_4': 77, 'hidden_layer_5': 20}. Best is trial 38 with value: -0.48412770584709036.\n",
      "[I 2023-12-04 08:18:12,823] Trial 70 finished with value: -0.4911472508469004 and parameters: {'activation': 'relu', 'solver': 'adam', 'learning_rate': 'constant', 'alpha': 0.0005635211773127093, 'early_stopping': True, 'n_layers': 5, 'hidden_layer_0': 91, 'hidden_layer_1': 89, 'hidden_layer_2': 86, 'hidden_layer_3': 56, 'hidden_layer_4': 17}. Best is trial 38 with value: -0.48412770584709036.\n",
      "[I 2023-12-04 08:18:24,150] Trial 71 finished with value: -0.4896662166833342 and parameters: {'activation': 'relu', 'solver': 'adam', 'learning_rate': 'constant', 'alpha': 0.0013756807495210338, 'early_stopping': True, 'n_layers': 6, 'hidden_layer_0': 87, 'hidden_layer_1': 84, 'hidden_layer_2': 97, 'hidden_layer_3': 66, 'hidden_layer_4': 41, 'hidden_layer_5': 44}. Best is trial 38 with value: -0.48412770584709036.\n",
      "[I 2023-12-04 08:18:32,935] Trial 72 finished with value: -0.4933622819161945 and parameters: {'activation': 'relu', 'solver': 'adam', 'learning_rate': 'constant', 'alpha': 0.0015645329464893476, 'early_stopping': True, 'n_layers': 6, 'hidden_layer_0': 69, 'hidden_layer_1': 93, 'hidden_layer_2': 99, 'hidden_layer_3': 62, 'hidden_layer_4': 33, 'hidden_layer_5': 35}. Best is trial 38 with value: -0.48412770584709036.\n",
      "[I 2023-12-04 08:18:40,876] Trial 73 finished with value: -0.4936010440091777 and parameters: {'activation': 'relu', 'solver': 'adam', 'learning_rate': 'constant', 'alpha': 0.0020137620040404157, 'early_stopping': True, 'n_layers': 6, 'hidden_layer_0': 87, 'hidden_layer_1': 72, 'hidden_layer_2': 93, 'hidden_layer_3': 71, 'hidden_layer_4': 46, 'hidden_layer_5': 55}. Best is trial 38 with value: -0.48412770584709036.\n",
      "[I 2023-12-04 08:18:49,675] Trial 74 finished with value: -0.48191525481430525 and parameters: {'activation': 'relu', 'solver': 'adam', 'learning_rate': 'constant', 'alpha': 0.002678188046321096, 'early_stopping': True, 'n_layers': 6, 'hidden_layer_0': 96, 'hidden_layer_1': 100, 'hidden_layer_2': 91, 'hidden_layer_3': 66, 'hidden_layer_4': 52, 'hidden_layer_5': 91}. Best is trial 74 with value: -0.48191525481430525.\n",
      "[I 2023-12-04 08:18:57,664] Trial 75 finished with value: -0.48749863737038107 and parameters: {'activation': 'relu', 'solver': 'adam', 'learning_rate': 'constant', 'alpha': 0.002711330890049727, 'early_stopping': True, 'n_layers': 5, 'hidden_layer_0': 94, 'hidden_layer_1': 99, 'hidden_layer_2': 92, 'hidden_layer_3': 61, 'hidden_layer_4': 53}. Best is trial 74 with value: -0.48191525481430525.\n",
      "[I 2023-12-04 08:19:07,694] Trial 76 finished with value: -0.47999646593766615 and parameters: {'activation': 'relu', 'solver': 'adam', 'learning_rate': 'adaptive', 'alpha': 0.004760239925367831, 'early_stopping': True, 'n_layers': 6, 'hidden_layer_0': 96, 'hidden_layer_1': 100, 'hidden_layer_2': 82, 'hidden_layer_3': 67, 'hidden_layer_4': 62, 'hidden_layer_5': 90}. Best is trial 76 with value: -0.47999646593766615.\n",
      "[I 2023-12-04 08:19:19,178] Trial 77 finished with value: -0.48532173771355847 and parameters: {'activation': 'relu', 'solver': 'adam', 'learning_rate': 'adaptive', 'alpha': 0.004699442723514317, 'early_stopping': True, 'n_layers': 6, 'hidden_layer_0': 99, 'hidden_layer_1': 100, 'hidden_layer_2': 82, 'hidden_layer_3': 83, 'hidden_layer_4': 64, 'hidden_layer_5': 92}. Best is trial 76 with value: -0.47999646593766615.\n",
      "[I 2023-12-04 08:19:30,607] Trial 78 finished with value: -0.49065716221789035 and parameters: {'activation': 'relu', 'solver': 'adam', 'learning_rate': 'adaptive', 'alpha': 0.00457464839289889, 'early_stopping': True, 'n_layers': 6, 'hidden_layer_0': 98, 'hidden_layer_1': 100, 'hidden_layer_2': 73, 'hidden_layer_3': 83, 'hidden_layer_4': 64, 'hidden_layer_5': 92}. Best is trial 76 with value: -0.47999646593766615.\n",
      "[I 2023-12-04 08:19:41,103] Trial 79 finished with value: -0.4959452678264758 and parameters: {'activation': 'relu', 'solver': 'adam', 'learning_rate': 'adaptive', 'alpha': 0.00610472453250774, 'early_stopping': True, 'n_layers': 6, 'hidden_layer_0': 100, 'hidden_layer_1': 96, 'hidden_layer_2': 87, 'hidden_layer_3': 91, 'hidden_layer_4': 72, 'hidden_layer_5': 86}. Best is trial 76 with value: -0.47999646593766615.\n",
      "[I 2023-12-04 08:19:51,568] Trial 80 finished with value: -0.4870448480552623 and parameters: {'activation': 'relu', 'solver': 'adam', 'learning_rate': 'adaptive', 'alpha': 0.0033424136966543347, 'early_stopping': True, 'n_layers': 6, 'hidden_layer_0': 96, 'hidden_layer_1': 100, 'hidden_layer_2': 81, 'hidden_layer_3': 99, 'hidden_layer_4': 60, 'hidden_layer_5': 93}. Best is trial 76 with value: -0.47999646593766615.\n",
      "[I 2023-12-04 08:19:59,899] Trial 81 finished with value: -0.49366533849047506 and parameters: {'activation': 'relu', 'solver': 'adam', 'learning_rate': 'adaptive', 'alpha': 0.005139064077890596, 'early_stopping': True, 'n_layers': 5, 'hidden_layer_0': 91, 'hidden_layer_1': 94, 'hidden_layer_2': 82, 'hidden_layer_3': 70, 'hidden_layer_4': 69}. Best is trial 76 with value: -0.47999646593766615.\n",
      "[I 2023-12-04 08:20:09,169] Trial 82 finished with value: -0.49716667301276923 and parameters: {'activation': 'relu', 'solver': 'adam', 'learning_rate': 'adaptive', 'alpha': 0.004426132374494531, 'early_stopping': True, 'n_layers': 6, 'hidden_layer_0': 95, 'hidden_layer_1': 91, 'hidden_layer_2': 65, 'hidden_layer_3': 75, 'hidden_layer_4': 100, 'hidden_layer_5': 85}. Best is trial 76 with value: -0.47999646593766615.\n",
      "[I 2023-12-04 08:20:19,213] Trial 83 finished with value: -0.4945650002880208 and parameters: {'activation': 'relu', 'solver': 'adam', 'learning_rate': 'adaptive', 'alpha': 0.0028719564338441, 'early_stopping': True, 'n_layers': 5, 'hidden_layer_0': 81, 'hidden_layer_1': 97, 'hidden_layer_2': 78, 'hidden_layer_3': 65, 'hidden_layer_4': 80}. Best is trial 76 with value: -0.47999646593766615.\n",
      "[I 2023-12-04 08:20:28,470] Trial 84 finished with value: -0.49392604469693274 and parameters: {'activation': 'relu', 'solver': 'adam', 'learning_rate': 'adaptive', 'alpha': 0.007873397887637641, 'early_stopping': True, 'n_layers': 6, 'hidden_layer_0': 98, 'hidden_layer_1': 88, 'hidden_layer_2': 56, 'hidden_layer_3': 55, 'hidden_layer_4': 50, 'hidden_layer_5': 95}. Best is trial 76 with value: -0.47999646593766615.\n",
      "[I 2023-12-04 08:20:38,718] Trial 85 finished with value: -0.4963242956766904 and parameters: {'activation': 'relu', 'solver': 'adam', 'learning_rate': 'adaptive', 'alpha': 0.003491673704545983, 'early_stopping': True, 'n_layers': 6, 'hidden_layer_0': 100, 'hidden_layer_1': 13, 'hidden_layer_2': 91, 'hidden_layer_3': 80, 'hidden_layer_4': 60, 'hidden_layer_5': 100}. Best is trial 76 with value: -0.47999646593766615.\n",
      "[I 2023-12-04 08:20:47,815] Trial 86 finished with value: -0.48827631624114837 and parameters: {'activation': 'relu', 'solver': 'adam', 'learning_rate': 'adaptive', 'alpha': 0.005820731155938567, 'early_stopping': True, 'n_layers': 5, 'hidden_layer_0': 92, 'hidden_layer_1': 94, 'hidden_layer_2': 88, 'hidden_layer_3': 93, 'hidden_layer_4': 65}. Best is trial 76 with value: -0.47999646593766615.\n",
      "[I 2023-12-04 08:20:57,144] Trial 87 finished with value: -0.49401506330084294 and parameters: {'activation': 'relu', 'solver': 'adam', 'learning_rate': 'adaptive', 'alpha': 0.0020591689984552942, 'early_stopping': True, 'n_layers': 6, 'hidden_layer_0': 83, 'hidden_layer_1': 96, 'hidden_layer_2': 82, 'hidden_layer_3': 68, 'hidden_layer_4': 84, 'hidden_layer_5': 83}. Best is trial 76 with value: -0.47999646593766615.\n",
      "[I 2023-12-04 08:21:12,750] Trial 88 finished with value: -0.51160826141459 and parameters: {'activation': 'relu', 'solver': 'adam', 'learning_rate': 'adaptive', 'alpha': 0.0025294955081125925, 'early_stopping': True, 'n_layers': 6, 'hidden_layer_0': 89, 'hidden_layer_1': 1, 'hidden_layer_2': 71, 'hidden_layer_3': 72, 'hidden_layer_4': 53, 'hidden_layer_5': 71}. Best is trial 76 with value: -0.47999646593766615.\n",
      "[I 2023-12-04 08:21:18,595] Trial 89 finished with value: -0.4925321946598549 and parameters: {'activation': 'relu', 'solver': 'adam', 'learning_rate': 'constant', 'alpha': 0.00972966989925288, 'early_stopping': True, 'n_layers': 5, 'hidden_layer_0': 96, 'hidden_layer_1': 91, 'hidden_layer_2': 85, 'hidden_layer_3': 31, 'hidden_layer_4': 64}. Best is trial 76 with value: -0.47999646593766615.\n",
      "[I 2023-12-04 08:21:26,370] Trial 90 finished with value: -0.48566611975130153 and parameters: {'activation': 'relu', 'solver': 'adam', 'learning_rate': 'constant', 'alpha': 0.004379277140867393, 'early_stopping': True, 'n_layers': 6, 'hidden_layer_0': 80, 'hidden_layer_1': 53, 'hidden_layer_2': 77, 'hidden_layer_3': 24, 'hidden_layer_4': 70, 'hidden_layer_5': 91}. Best is trial 76 with value: -0.47999646593766615.\n",
      "[I 2023-12-04 08:21:33,121] Trial 91 finished with value: -0.4852025556860081 and parameters: {'activation': 'relu', 'solver': 'adam', 'learning_rate': 'constant', 'alpha': 0.004385064856104706, 'early_stopping': True, 'n_layers': 6, 'hidden_layer_0': 78, 'hidden_layer_1': 54, 'hidden_layer_2': 76, 'hidden_layer_3': 24, 'hidden_layer_4': 59, 'hidden_layer_5': 95}. Best is trial 76 with value: -0.47999646593766615.\n",
      "[I 2023-12-04 08:21:40,301] Trial 92 finished with value: -0.49397048483760925 and parameters: {'activation': 'relu', 'solver': 'adam', 'learning_rate': 'constant', 'alpha': 0.0032854012223664016, 'early_stopping': True, 'n_layers': 6, 'hidden_layer_0': 75, 'hidden_layer_1': 58, 'hidden_layer_2': 73, 'hidden_layer_3': 24, 'hidden_layer_4': 58, 'hidden_layer_5': 97}. Best is trial 76 with value: -0.47999646593766615.\n",
      "[I 2023-12-04 08:21:49,586] Trial 93 finished with value: -0.4985831211803665 and parameters: {'activation': 'relu', 'solver': 'adam', 'learning_rate': 'constant', 'alpha': 0.006599089721156702, 'early_stopping': True, 'n_layers': 6, 'hidden_layer_0': 78, 'hidden_layer_1': 42, 'hidden_layer_2': 90, 'hidden_layer_3': 20, 'hidden_layer_4': 53, 'hidden_layer_5': 81}. Best is trial 76 with value: -0.47999646593766615.\n",
      "[I 2023-12-04 08:21:58,247] Trial 94 finished with value: -0.48617861517135363 and parameters: {'activation': 'relu', 'solver': 'adam', 'learning_rate': 'constant', 'alpha': 0.0052204577943597815, 'early_stopping': True, 'n_layers': 6, 'hidden_layer_0': 73, 'hidden_layer_1': 98, 'hidden_layer_2': 79, 'hidden_layer_3': 15, 'hidden_layer_4': 48, 'hidden_layer_5': 90}. Best is trial 76 with value: -0.47999646593766615.\n",
      "[I 2023-12-04 08:22:04,074] Trial 95 finished with value: -0.4876244542399693 and parameters: {'activation': 'relu', 'solver': 'adam', 'learning_rate': 'constant', 'alpha': 0.0038397567649073143, 'early_stopping': True, 'n_layers': 5, 'hidden_layer_0': 67, 'hidden_layer_1': 66, 'hidden_layer_2': 87, 'hidden_layer_3': 51, 'hidden_layer_4': 63}. Best is trial 76 with value: -0.47999646593766615.\n",
      "[I 2023-12-04 08:22:07,842] Trial 96 finished with value: -0.5040476987864283 and parameters: {'activation': 'relu', 'solver': 'adam', 'learning_rate': 'constant', 'alpha': 0.0027040222414403577, 'early_stopping': True, 'n_layers': 2, 'hidden_layer_0': 84, 'hidden_layer_1': 51}. Best is trial 76 with value: -0.47999646593766615.\n",
      "[I 2023-12-04 08:22:18,063] Trial 97 finished with value: -0.49500767944150204 and parameters: {'activation': 'relu', 'solver': 'adam', 'learning_rate': 'constant', 'alpha': 0.004144634829527564, 'early_stopping': True, 'n_layers': 6, 'hidden_layer_0': 82, 'hidden_layer_1': 86, 'hidden_layer_2': 84, 'hidden_layer_3': 7, 'hidden_layer_4': 67, 'hidden_layer_5': 100}. Best is trial 76 with value: -0.47999646593766615.\n",
      "[I 2023-12-04 08:22:27,557] Trial 98 finished with value: -0.5083189434718887 and parameters: {'activation': 'relu', 'solver': 'adam', 'learning_rate': 'adaptive', 'alpha': 0.012913766762616241, 'early_stopping': True, 'n_layers': 6, 'hidden_layer_0': 20, 'hidden_layer_1': 89, 'hidden_layer_2': 96, 'hidden_layer_3': 16, 'hidden_layer_4': 59, 'hidden_layer_5': 72}. Best is trial 76 with value: -0.47999646593766615.\n",
      "[I 2023-12-04 08:22:36,664] Trial 99 finished with value: -0.5072112505499012 and parameters: {'activation': 'relu', 'solver': 'adam', 'learning_rate': 'constant', 'alpha': 0.0075335341172510974, 'early_stopping': True, 'n_layers': 6, 'hidden_layer_0': 71, 'hidden_layer_1': 19, 'hidden_layer_2': 66, 'hidden_layer_3': 58, 'hidden_layer_4': 75, 'hidden_layer_5': 95}. Best is trial 76 with value: -0.47999646593766615.\n"
     ]
    },
    {
     "name": "stdout",
     "output_type": "stream",
     "text": [
      "Best Trial: {'activation': 'relu', 'solver': 'adam', 'learning_rate': 'adaptive', 'alpha': 0.004760239925367831, 'early_stopping': True, 'n_layers': 6, 'hidden_layer_0': 96, 'hidden_layer_1': 100, 'hidden_layer_2': 82, 'hidden_layer_3': 67, 'hidden_layer_4': 62, 'hidden_layer_5': 90}\n",
      "Best Score: -0.47999646593766615\n"
     ]
    },
    {
     "data": {
      "application/vnd.plotly.v1+json": {
       "config": {
        "plotlyServerURL": "https://plot.ly"
       },
       "data": [
        {
         "mode": "markers",
         "name": "Objective Value",
         "type": "scatter",
         "x": [
          0,
          1,
          2,
          3,
          4,
          5,
          6,
          7,
          8,
          9,
          10,
          11,
          12,
          13,
          14,
          15,
          16,
          17,
          18,
          19,
          20,
          21,
          22,
          23,
          24,
          25,
          26,
          27,
          28,
          29,
          30,
          31,
          32,
          33,
          34,
          35,
          36,
          37,
          38,
          39,
          40,
          41,
          42,
          43,
          44,
          45,
          46,
          47,
          48,
          49,
          50,
          51,
          52,
          53,
          54,
          55,
          56,
          57,
          58,
          59,
          60,
          61,
          62,
          63,
          64,
          65,
          66,
          67,
          68,
          69,
          70,
          71,
          72,
          73,
          74,
          75,
          76,
          77,
          78,
          79,
          80,
          81,
          82,
          83,
          84,
          85,
          86,
          87,
          88,
          89,
          90,
          91,
          92,
          93,
          94,
          95,
          96,
          97,
          98,
          99
         ],
         "y": [
          -0.5003002192965016,
          -0.5321366553108405,
          -0.49181540594665324,
          -0.5168957895256152,
          -0.5044110894204258,
          -0.5050699732467508,
          -0.4953693595157953,
          -0.5003129318573474,
          -0.5243666560969956,
          -0.5465808039403353,
          -1.7506815665467212,
          -0.4959858112213008,
          -0.4983218024858448,
          -0.49488274049713554,
          -0.4852180964610822,
          -0.5107296201918284,
          -0.4955686173657113,
          -0.5030915231252967,
          -0.4938076626466871,
          -0.5051518450961076,
          -0.5001796313619199,
          -0.5029809333264597,
          -0.5039894678318916,
          -0.4968751876680694,
          -0.557002665653109,
          -1.7385000010275118,
          -0.49335908181077903,
          -0.5045199442187335,
          -0.48921340189198514,
          -0.4856599486216198,
          -0.5145869235993242,
          -0.49247243143240116,
          -0.49086679493802404,
          -0.4885614254100885,
          -0.4940214449213538,
          -0.4927997954675985,
          -0.49395571898375895,
          -0.5132627371237427,
          -0.48412770584709036,
          -0.4983232171229647,
          -0.5024815756788531,
          -0.4897661002436136,
          -0.48974715237632815,
          -0.48528040617037077,
          -0.4908212046186346,
          -0.49415686281237975,
          -0.4969299379991944,
          -0.48782538165112704,
          -0.4932722586379588,
          -0.49309397328621324,
          -0.5121960876854014,
          -0.4919486199520581,
          -0.48804171587245143,
          -0.49190717024513636,
          -0.491541786151748,
          -0.4847459970845486,
          -0.49419267160709357,
          -0.4974770929329017,
          -0.49567339684642914,
          -0.5207649257851504,
          -0.4936403889370387,
          -0.49128307413305816,
          -0.48422628497929215,
          -0.4874880864523368,
          -0.49764704232817486,
          -0.4921195394679053,
          -0.4868268909259093,
          -0.49106744329679514,
          -0.49813557869254255,
          -0.48755751929958924,
          -0.4911472508469004,
          -0.4896662166833342,
          -0.4933622819161945,
          -0.4936010440091777,
          -0.48191525481430525,
          -0.48749863737038107,
          -0.47999646593766615,
          -0.48532173771355847,
          -0.49065716221789035,
          -0.4959452678264758,
          -0.4870448480552623,
          -0.49366533849047506,
          -0.49716667301276923,
          -0.4945650002880208,
          -0.49392604469693274,
          -0.4963242956766904,
          -0.48827631624114837,
          -0.49401506330084294,
          -0.51160826141459,
          -0.4925321946598549,
          -0.48566611975130153,
          -0.4852025556860081,
          -0.49397048483760925,
          -0.4985831211803665,
          -0.48617861517135363,
          -0.4876244542399693,
          -0.5040476987864283,
          -0.49500767944150204,
          -0.5083189434718887,
          -0.5072112505499012
         ]
        },
        {
         "name": "Best Value",
         "type": "scatter",
         "x": [
          0,
          1,
          2,
          3,
          4,
          5,
          6,
          7,
          8,
          9,
          10,
          11,
          12,
          13,
          14,
          15,
          16,
          17,
          18,
          19,
          20,
          21,
          22,
          23,
          24,
          25,
          26,
          27,
          28,
          29,
          30,
          31,
          32,
          33,
          34,
          35,
          36,
          37,
          38,
          39,
          40,
          41,
          42,
          43,
          44,
          45,
          46,
          47,
          48,
          49,
          50,
          51,
          52,
          53,
          54,
          55,
          56,
          57,
          58,
          59,
          60,
          61,
          62,
          63,
          64,
          65,
          66,
          67,
          68,
          69,
          70,
          71,
          72,
          73,
          74,
          75,
          76,
          77,
          78,
          79,
          80,
          81,
          82,
          83,
          84,
          85,
          86,
          87,
          88,
          89,
          90,
          91,
          92,
          93,
          94,
          95,
          96,
          97,
          98,
          99
         ],
         "y": [
          -0.5003002192965016,
          -0.5003002192965016,
          -0.49181540594665324,
          -0.49181540594665324,
          -0.49181540594665324,
          -0.49181540594665324,
          -0.49181540594665324,
          -0.49181540594665324,
          -0.49181540594665324,
          -0.49181540594665324,
          -0.49181540594665324,
          -0.49181540594665324,
          -0.49181540594665324,
          -0.49181540594665324,
          -0.4852180964610822,
          -0.4852180964610822,
          -0.4852180964610822,
          -0.4852180964610822,
          -0.4852180964610822,
          -0.4852180964610822,
          -0.4852180964610822,
          -0.4852180964610822,
          -0.4852180964610822,
          -0.4852180964610822,
          -0.4852180964610822,
          -0.4852180964610822,
          -0.4852180964610822,
          -0.4852180964610822,
          -0.4852180964610822,
          -0.4852180964610822,
          -0.4852180964610822,
          -0.4852180964610822,
          -0.4852180964610822,
          -0.4852180964610822,
          -0.4852180964610822,
          -0.4852180964610822,
          -0.4852180964610822,
          -0.4852180964610822,
          -0.48412770584709036,
          -0.48412770584709036,
          -0.48412770584709036,
          -0.48412770584709036,
          -0.48412770584709036,
          -0.48412770584709036,
          -0.48412770584709036,
          -0.48412770584709036,
          -0.48412770584709036,
          -0.48412770584709036,
          -0.48412770584709036,
          -0.48412770584709036,
          -0.48412770584709036,
          -0.48412770584709036,
          -0.48412770584709036,
          -0.48412770584709036,
          -0.48412770584709036,
          -0.48412770584709036,
          -0.48412770584709036,
          -0.48412770584709036,
          -0.48412770584709036,
          -0.48412770584709036,
          -0.48412770584709036,
          -0.48412770584709036,
          -0.48412770584709036,
          -0.48412770584709036,
          -0.48412770584709036,
          -0.48412770584709036,
          -0.48412770584709036,
          -0.48412770584709036,
          -0.48412770584709036,
          -0.48412770584709036,
          -0.48412770584709036,
          -0.48412770584709036,
          -0.48412770584709036,
          -0.48412770584709036,
          -0.48191525481430525,
          -0.48191525481430525,
          -0.47999646593766615,
          -0.47999646593766615,
          -0.47999646593766615,
          -0.47999646593766615,
          -0.47999646593766615,
          -0.47999646593766615,
          -0.47999646593766615,
          -0.47999646593766615,
          -0.47999646593766615,
          -0.47999646593766615,
          -0.47999646593766615,
          -0.47999646593766615,
          -0.47999646593766615,
          -0.47999646593766615,
          -0.47999646593766615,
          -0.47999646593766615,
          -0.47999646593766615,
          -0.47999646593766615,
          -0.47999646593766615,
          -0.47999646593766615,
          -0.47999646593766615,
          -0.47999646593766615,
          -0.47999646593766615,
          -0.47999646593766615
         ]
        }
       ],
       "layout": {
        "template": {
         "data": {
          "bar": [
           {
            "error_x": {
             "color": "#2a3f5f"
            },
            "error_y": {
             "color": "#2a3f5f"
            },
            "marker": {
             "line": {
              "color": "#E5ECF6",
              "width": 0.5
             },
             "pattern": {
              "fillmode": "overlay",
              "size": 10,
              "solidity": 0.2
             }
            },
            "type": "bar"
           }
          ],
          "barpolar": [
           {
            "marker": {
             "line": {
              "color": "#E5ECF6",
              "width": 0.5
             },
             "pattern": {
              "fillmode": "overlay",
              "size": 10,
              "solidity": 0.2
             }
            },
            "type": "barpolar"
           }
          ],
          "carpet": [
           {
            "aaxis": {
             "endlinecolor": "#2a3f5f",
             "gridcolor": "white",
             "linecolor": "white",
             "minorgridcolor": "white",
             "startlinecolor": "#2a3f5f"
            },
            "baxis": {
             "endlinecolor": "#2a3f5f",
             "gridcolor": "white",
             "linecolor": "white",
             "minorgridcolor": "white",
             "startlinecolor": "#2a3f5f"
            },
            "type": "carpet"
           }
          ],
          "choropleth": [
           {
            "colorbar": {
             "outlinewidth": 0,
             "ticks": ""
            },
            "type": "choropleth"
           }
          ],
          "contour": [
           {
            "colorbar": {
             "outlinewidth": 0,
             "ticks": ""
            },
            "colorscale": [
             [
              0,
              "#0d0887"
             ],
             [
              0.1111111111111111,
              "#46039f"
             ],
             [
              0.2222222222222222,
              "#7201a8"
             ],
             [
              0.3333333333333333,
              "#9c179e"
             ],
             [
              0.4444444444444444,
              "#bd3786"
             ],
             [
              0.5555555555555556,
              "#d8576b"
             ],
             [
              0.6666666666666666,
              "#ed7953"
             ],
             [
              0.7777777777777778,
              "#fb9f3a"
             ],
             [
              0.8888888888888888,
              "#fdca26"
             ],
             [
              1,
              "#f0f921"
             ]
            ],
            "type": "contour"
           }
          ],
          "contourcarpet": [
           {
            "colorbar": {
             "outlinewidth": 0,
             "ticks": ""
            },
            "type": "contourcarpet"
           }
          ],
          "heatmap": [
           {
            "colorbar": {
             "outlinewidth": 0,
             "ticks": ""
            },
            "colorscale": [
             [
              0,
              "#0d0887"
             ],
             [
              0.1111111111111111,
              "#46039f"
             ],
             [
              0.2222222222222222,
              "#7201a8"
             ],
             [
              0.3333333333333333,
              "#9c179e"
             ],
             [
              0.4444444444444444,
              "#bd3786"
             ],
             [
              0.5555555555555556,
              "#d8576b"
             ],
             [
              0.6666666666666666,
              "#ed7953"
             ],
             [
              0.7777777777777778,
              "#fb9f3a"
             ],
             [
              0.8888888888888888,
              "#fdca26"
             ],
             [
              1,
              "#f0f921"
             ]
            ],
            "type": "heatmap"
           }
          ],
          "heatmapgl": [
           {
            "colorbar": {
             "outlinewidth": 0,
             "ticks": ""
            },
            "colorscale": [
             [
              0,
              "#0d0887"
             ],
             [
              0.1111111111111111,
              "#46039f"
             ],
             [
              0.2222222222222222,
              "#7201a8"
             ],
             [
              0.3333333333333333,
              "#9c179e"
             ],
             [
              0.4444444444444444,
              "#bd3786"
             ],
             [
              0.5555555555555556,
              "#d8576b"
             ],
             [
              0.6666666666666666,
              "#ed7953"
             ],
             [
              0.7777777777777778,
              "#fb9f3a"
             ],
             [
              0.8888888888888888,
              "#fdca26"
             ],
             [
              1,
              "#f0f921"
             ]
            ],
            "type": "heatmapgl"
           }
          ],
          "histogram": [
           {
            "marker": {
             "pattern": {
              "fillmode": "overlay",
              "size": 10,
              "solidity": 0.2
             }
            },
            "type": "histogram"
           }
          ],
          "histogram2d": [
           {
            "colorbar": {
             "outlinewidth": 0,
             "ticks": ""
            },
            "colorscale": [
             [
              0,
              "#0d0887"
             ],
             [
              0.1111111111111111,
              "#46039f"
             ],
             [
              0.2222222222222222,
              "#7201a8"
             ],
             [
              0.3333333333333333,
              "#9c179e"
             ],
             [
              0.4444444444444444,
              "#bd3786"
             ],
             [
              0.5555555555555556,
              "#d8576b"
             ],
             [
              0.6666666666666666,
              "#ed7953"
             ],
             [
              0.7777777777777778,
              "#fb9f3a"
             ],
             [
              0.8888888888888888,
              "#fdca26"
             ],
             [
              1,
              "#f0f921"
             ]
            ],
            "type": "histogram2d"
           }
          ],
          "histogram2dcontour": [
           {
            "colorbar": {
             "outlinewidth": 0,
             "ticks": ""
            },
            "colorscale": [
             [
              0,
              "#0d0887"
             ],
             [
              0.1111111111111111,
              "#46039f"
             ],
             [
              0.2222222222222222,
              "#7201a8"
             ],
             [
              0.3333333333333333,
              "#9c179e"
             ],
             [
              0.4444444444444444,
              "#bd3786"
             ],
             [
              0.5555555555555556,
              "#d8576b"
             ],
             [
              0.6666666666666666,
              "#ed7953"
             ],
             [
              0.7777777777777778,
              "#fb9f3a"
             ],
             [
              0.8888888888888888,
              "#fdca26"
             ],
             [
              1,
              "#f0f921"
             ]
            ],
            "type": "histogram2dcontour"
           }
          ],
          "mesh3d": [
           {
            "colorbar": {
             "outlinewidth": 0,
             "ticks": ""
            },
            "type": "mesh3d"
           }
          ],
          "parcoords": [
           {
            "line": {
             "colorbar": {
              "outlinewidth": 0,
              "ticks": ""
             }
            },
            "type": "parcoords"
           }
          ],
          "pie": [
           {
            "automargin": true,
            "type": "pie"
           }
          ],
          "scatter": [
           {
            "fillpattern": {
             "fillmode": "overlay",
             "size": 10,
             "solidity": 0.2
            },
            "type": "scatter"
           }
          ],
          "scatter3d": [
           {
            "line": {
             "colorbar": {
              "outlinewidth": 0,
              "ticks": ""
             }
            },
            "marker": {
             "colorbar": {
              "outlinewidth": 0,
              "ticks": ""
             }
            },
            "type": "scatter3d"
           }
          ],
          "scattercarpet": [
           {
            "marker": {
             "colorbar": {
              "outlinewidth": 0,
              "ticks": ""
             }
            },
            "type": "scattercarpet"
           }
          ],
          "scattergeo": [
           {
            "marker": {
             "colorbar": {
              "outlinewidth": 0,
              "ticks": ""
             }
            },
            "type": "scattergeo"
           }
          ],
          "scattergl": [
           {
            "marker": {
             "colorbar": {
              "outlinewidth": 0,
              "ticks": ""
             }
            },
            "type": "scattergl"
           }
          ],
          "scattermapbox": [
           {
            "marker": {
             "colorbar": {
              "outlinewidth": 0,
              "ticks": ""
             }
            },
            "type": "scattermapbox"
           }
          ],
          "scatterpolar": [
           {
            "marker": {
             "colorbar": {
              "outlinewidth": 0,
              "ticks": ""
             }
            },
            "type": "scatterpolar"
           }
          ],
          "scatterpolargl": [
           {
            "marker": {
             "colorbar": {
              "outlinewidth": 0,
              "ticks": ""
             }
            },
            "type": "scatterpolargl"
           }
          ],
          "scatterternary": [
           {
            "marker": {
             "colorbar": {
              "outlinewidth": 0,
              "ticks": ""
             }
            },
            "type": "scatterternary"
           }
          ],
          "surface": [
           {
            "colorbar": {
             "outlinewidth": 0,
             "ticks": ""
            },
            "colorscale": [
             [
              0,
              "#0d0887"
             ],
             [
              0.1111111111111111,
              "#46039f"
             ],
             [
              0.2222222222222222,
              "#7201a8"
             ],
             [
              0.3333333333333333,
              "#9c179e"
             ],
             [
              0.4444444444444444,
              "#bd3786"
             ],
             [
              0.5555555555555556,
              "#d8576b"
             ],
             [
              0.6666666666666666,
              "#ed7953"
             ],
             [
              0.7777777777777778,
              "#fb9f3a"
             ],
             [
              0.8888888888888888,
              "#fdca26"
             ],
             [
              1,
              "#f0f921"
             ]
            ],
            "type": "surface"
           }
          ],
          "table": [
           {
            "cells": {
             "fill": {
              "color": "#EBF0F8"
             },
             "line": {
              "color": "white"
             }
            },
            "header": {
             "fill": {
              "color": "#C8D4E3"
             },
             "line": {
              "color": "white"
             }
            },
            "type": "table"
           }
          ]
         },
         "layout": {
          "annotationdefaults": {
           "arrowcolor": "#2a3f5f",
           "arrowhead": 0,
           "arrowwidth": 1
          },
          "autotypenumbers": "strict",
          "coloraxis": {
           "colorbar": {
            "outlinewidth": 0,
            "ticks": ""
           }
          },
          "colorscale": {
           "diverging": [
            [
             0,
             "#8e0152"
            ],
            [
             0.1,
             "#c51b7d"
            ],
            [
             0.2,
             "#de77ae"
            ],
            [
             0.3,
             "#f1b6da"
            ],
            [
             0.4,
             "#fde0ef"
            ],
            [
             0.5,
             "#f7f7f7"
            ],
            [
             0.6,
             "#e6f5d0"
            ],
            [
             0.7,
             "#b8e186"
            ],
            [
             0.8,
             "#7fbc41"
            ],
            [
             0.9,
             "#4d9221"
            ],
            [
             1,
             "#276419"
            ]
           ],
           "sequential": [
            [
             0,
             "#0d0887"
            ],
            [
             0.1111111111111111,
             "#46039f"
            ],
            [
             0.2222222222222222,
             "#7201a8"
            ],
            [
             0.3333333333333333,
             "#9c179e"
            ],
            [
             0.4444444444444444,
             "#bd3786"
            ],
            [
             0.5555555555555556,
             "#d8576b"
            ],
            [
             0.6666666666666666,
             "#ed7953"
            ],
            [
             0.7777777777777778,
             "#fb9f3a"
            ],
            [
             0.8888888888888888,
             "#fdca26"
            ],
            [
             1,
             "#f0f921"
            ]
           ],
           "sequentialminus": [
            [
             0,
             "#0d0887"
            ],
            [
             0.1111111111111111,
             "#46039f"
            ],
            [
             0.2222222222222222,
             "#7201a8"
            ],
            [
             0.3333333333333333,
             "#9c179e"
            ],
            [
             0.4444444444444444,
             "#bd3786"
            ],
            [
             0.5555555555555556,
             "#d8576b"
            ],
            [
             0.6666666666666666,
             "#ed7953"
            ],
            [
             0.7777777777777778,
             "#fb9f3a"
            ],
            [
             0.8888888888888888,
             "#fdca26"
            ],
            [
             1,
             "#f0f921"
            ]
           ]
          },
          "colorway": [
           "#636efa",
           "#EF553B",
           "#00cc96",
           "#ab63fa",
           "#FFA15A",
           "#19d3f3",
           "#FF6692",
           "#B6E880",
           "#FF97FF",
           "#FECB52"
          ],
          "font": {
           "color": "#2a3f5f"
          },
          "geo": {
           "bgcolor": "white",
           "lakecolor": "white",
           "landcolor": "#E5ECF6",
           "showlakes": true,
           "showland": true,
           "subunitcolor": "white"
          },
          "hoverlabel": {
           "align": "left"
          },
          "hovermode": "closest",
          "mapbox": {
           "style": "light"
          },
          "paper_bgcolor": "white",
          "plot_bgcolor": "#E5ECF6",
          "polar": {
           "angularaxis": {
            "gridcolor": "white",
            "linecolor": "white",
            "ticks": ""
           },
           "bgcolor": "#E5ECF6",
           "radialaxis": {
            "gridcolor": "white",
            "linecolor": "white",
            "ticks": ""
           }
          },
          "scene": {
           "xaxis": {
            "backgroundcolor": "#E5ECF6",
            "gridcolor": "white",
            "gridwidth": 2,
            "linecolor": "white",
            "showbackground": true,
            "ticks": "",
            "zerolinecolor": "white"
           },
           "yaxis": {
            "backgroundcolor": "#E5ECF6",
            "gridcolor": "white",
            "gridwidth": 2,
            "linecolor": "white",
            "showbackground": true,
            "ticks": "",
            "zerolinecolor": "white"
           },
           "zaxis": {
            "backgroundcolor": "#E5ECF6",
            "gridcolor": "white",
            "gridwidth": 2,
            "linecolor": "white",
            "showbackground": true,
            "ticks": "",
            "zerolinecolor": "white"
           }
          },
          "shapedefaults": {
           "line": {
            "color": "#2a3f5f"
           }
          },
          "ternary": {
           "aaxis": {
            "gridcolor": "white",
            "linecolor": "white",
            "ticks": ""
           },
           "baxis": {
            "gridcolor": "white",
            "linecolor": "white",
            "ticks": ""
           },
           "bgcolor": "#E5ECF6",
           "caxis": {
            "gridcolor": "white",
            "linecolor": "white",
            "ticks": ""
           }
          },
          "title": {
           "x": 0.05
          },
          "xaxis": {
           "automargin": true,
           "gridcolor": "white",
           "linecolor": "white",
           "ticks": "",
           "title": {
            "standoff": 15
           },
           "zerolinecolor": "white",
           "zerolinewidth": 2
          },
          "yaxis": {
           "automargin": true,
           "gridcolor": "white",
           "linecolor": "white",
           "ticks": "",
           "title": {
            "standoff": 15
           },
           "zerolinecolor": "white",
           "zerolinewidth": 2
          }
         }
        },
        "title": {
         "text": "Optimization History Plot"
        },
        "xaxis": {
         "title": {
          "text": "Trial"
         }
        },
        "yaxis": {
         "title": {
          "text": "Objective Value"
         }
        }
       }
      }
     },
     "metadata": {},
     "output_type": "display_data"
    }
   ],
   "source": [
    "# import optuna\n",
    "# from optuna import Trial, visualization\n",
    "\n",
    "# def objective(trial: Trial) -> float:\n",
    "#     #MLP parameters\n",
    "#     activation = trial.suggest_categorical('activation', ['relu'])\n",
    "#     solver = trial.suggest_categorical('solver', ['adam'])\n",
    "#     learning_rate = trial.suggest_categorical('learning_rate', ['constant', 'adaptive'])\n",
    "#     alpha = trial.suggest_loguniform('alpha', 1e-4, 1e-1)\n",
    "#     early_stopping = trial.suggest_categorical('early_stopping', [True])\n",
    "#      # Hidden layer sizes\n",
    "#     n_layers = trial.suggest_int('n_layers', 1, 6)\n",
    "\n",
    "#     # Hidden layer sizes\n",
    "#     hidden_layer_sizes = tuple(\n",
    "#         trial.suggest_int(f'hidden_layer_{i}', 1, 100) for i in range(n_layers)\n",
    "#     )\n",
    "    \n",
    "#     # Create model\n",
    "#     model = MLPRegressor(activation=activation, hidden_layer_sizes=hidden_layer_sizes, learning_rate=learning_rate, solver=solver, max_iter=1000, random_state=42, early_stopping=early_stopping, alpha=alpha)\n",
    "    \n",
    "#     # Cross-validation\n",
    "#     cv = RepeatedKFold(n_splits=10, n_repeats=3, random_state=42)\n",
    "#     cv_abs_error = cross_val_score(model, X, y, cv=cv, scoring='neg_mean_absolute_error', n_jobs=-1)\n",
    "#     return cv_abs_error.mean()\n",
    "\n",
    "\n",
    "# study = optuna.create_study(direction='maximize')\n",
    "# study.optimize(objective, n_trials=100)\n",
    "# print('Best Trial:', study.best_trial.params)\n",
    "# print('Best Score:', study.best_value)\n",
    "\n",
    "# #visualize the optimization history\n",
    "# optuna.visualization.plot_optimization_history(study)\n",
    "\n"
   ]
  },
  {
   "cell_type": "code",
   "execution_count": 21,
   "metadata": {},
   "outputs": [
    {
     "name": "stdout",
     "output_type": "stream",
     "text": [
      "R2 Mean: 0.9227780614492392\n",
      "RMSE Mean: 0.6236795230952153\n",
      "MAE Mean: 0.47999646593766615\n",
      "Best Trial: {'activation': 'relu', 'solver': 'adam', 'learning_rate': 'adaptive', 'alpha': 0.004760239925367831, 'early_stopping': True, 'n_layers': 6, 'hidden_layer_0': 96, 'hidden_layer_1': 100, 'hidden_layer_2': 82, 'hidden_layer_3': 67, 'hidden_layer_4': 62, 'hidden_layer_5': 90}\n",
      "Best Score: -0.47999646593766615\n"
     ]
    }
   ],
   "source": [
    "mlp = MLPRegressor(activation='relu', hidden_layer_sizes=(96,100,82,67,62,90), learning_rate='adaptive',\n",
    "                    solver='adam', max_iter=1000, random_state=42, early_stopping=True, alpha=0.004760239925367831)\n",
    "cv = RepeatedKFold(n_splits=10, n_repeats=3, random_state=42)\n",
    "cv_r2 = cross_val_score(mlp, X, y, cv=cv, scoring='r2', n_jobs=-1)\n",
    "cv_rmse = cross_val_score(mlp, X, y, cv=cv, scoring='neg_root_mean_squared_error', n_jobs=-1)\n",
    "cv_abs_error = cross_val_score(mlp, X, y, cv=cv, scoring='neg_mean_absolute_error', n_jobs=-1)\n",
    "\n",
    "print('R2 Mean:', cv_r2.mean())\n",
    "print('RMSE Mean:', -cv_rmse.mean())\n",
    "print('MAE Mean:', -cv_abs_error.mean())\n",
    "\n",
    "#print params\n",
    "print('Best Trial:', study.best_trial.params)"
   ]
  }
 ],
 "metadata": {
  "kernelspec": {
   "display_name": "ds_mf",
   "language": "python",
   "name": "python3"
  },
  "language_info": {
   "codemirror_mode": {
    "name": "ipython",
    "version": 3
   },
   "file_extension": ".py",
   "mimetype": "text/x-python",
   "name": "python",
   "nbconvert_exporter": "python",
   "pygments_lexer": "ipython3",
   "version": "3.10.10"
  }
 },
 "nbformat": 4,
 "nbformat_minor": 2
}
