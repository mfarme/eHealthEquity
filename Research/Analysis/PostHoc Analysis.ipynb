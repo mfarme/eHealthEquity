{
 "cells": [
  {
   "cell_type": "markdown",
   "metadata": {},
   "source": [
    "# PostHoc Analysis"
   ]
  },
  {
   "cell_type": "code",
   "execution_count": 15,
   "metadata": {},
   "outputs": [],
   "source": [
    "import os\n",
    "import pandas as pd\n",
    "import numpy as np\n",
    "import matplotlib.pyplot as plt\n",
    "import seaborn as sns\n",
    "\n",
    "from sklearn.linear_model import LinearRegression\n",
    "import statsmodels.api as sm\n",
    "from sklearn.tree import DecisionTreeRegressor, plot_tree\n",
    "from sklearn.model_selection import cross_val_score, RepeatedKFold, train_test_split\n",
    "from sklearn.metrics import make_scorer, mean_squared_error, mean_absolute_error, r2_score\n",
    "\n",
    "from sklearn.linear_model import LinearRegression\n",
    "from sklearn.ensemble import RandomForestRegressor, GradientBoostingRegressor\n",
    "from sklearn.neighbors import KNeighborsRegressor\n",
    "from sklearn.neural_network import MLPRegressor\n",
    "from sklearn.model_selection import GridSearchCV, RandomizedSearchCV\n",
    "\n",
    "sns.set_theme(style=\"whitegrid\")"
   ]
  },
  {
   "cell_type": "code",
   "execution_count": 2,
   "metadata": {},
   "outputs": [],
   "source": [
    "#change directory for your path\n",
    "os.chdir('E:\\\\OneDrive\\\\Documents\\\\GitHub\\\\eHealthEquity\\\\Research\\\\Data Source')"
   ]
  },
  {
   "cell_type": "code",
   "execution_count": 3,
   "metadata": {},
   "outputs": [
    {
     "name": "stdout",
     "output_type": "stream",
     "text": [
      "<class 'pandas.core.frame.DataFrame'>\n",
      "RangeIndex: 3076 entries, 0 to 3075\n",
      "Data columns (total 24 columns):\n",
      " #   Column                    Non-Null Count  Dtype  \n",
      "---  ------                    --------------  -----  \n",
      " 0   state                     3076 non-null   object \n",
      " 1   county                    3076 non-null   object \n",
      " 2   brfss_diabetes_ageadjprv  3076 non-null   float64\n",
      " 3   pct_dg_bb_int             3076 non-null   float64\n",
      " 4   brfss_checkup_ageadjprv   3076 non-null   float64\n",
      " 5   brfss_mhlth_ageadjprv     3076 non-null   float64\n",
      " 6   brfss_obesity_ageadjprv   3076 non-null   float64\n",
      " 7   pct_ed_lt9                3076 non-null   float64\n",
      " 8   pct_ed_9_12               3076 non-null   float64\n",
      " 9   pct_ed_hs                 3076 non-null   float64\n",
      " 10  pct_ed_asc                3076 non-null   float64\n",
      " 11  pct_age_gte65             3076 non-null   float64\n",
      " 12  pct_race_black            3076 non-null   float64\n",
      " 13  pct_race_aian             3076 non-null   float64\n",
      " 14  pct_race_asian            3076 non-null   float64\n",
      " 15  pct_race_nhopi            3076 non-null   float64\n",
      " 16  pct_race_other            3076 non-null   float64\n",
      " 17  pct_sex_male              3076 non-null   float64\n",
      " 18  pct_occ_unemp             3076 non-null   float64\n",
      " 19  pct_hlth_unins            3076 non-null   float64\n",
      " 20  pct_ses_pov               3076 non-null   float64\n",
      " 21  pct_tp_veh_0              3076 non-null   float64\n",
      " 22  bb_int_struct             3076 non-null   float64\n",
      " 23  ruca_rural                3076 non-null   int64  \n",
      "dtypes: float64(21), int64(1), object(2)\n",
      "memory usage: 576.9+ KB\n",
      "None\n"
     ]
    }
   ],
   "source": [
    "df = pd.read_csv('final_merge.csv')\n",
    "\n",
    "target = [\n",
    "    'brfss_diabetes_ageadjprv' # percentage of adults aged >=18 years who have diagnosed diabetes\n",
    "]\n",
    "features = [\n",
    "    'pct_dg_bb_int',\n",
    "    #'brfss_access2_ageadjprv',\n",
    "    'brfss_checkup_ageadjprv',\n",
    "    #'brfss_csmoking_ageadjprv',\n",
    "    #'brfss_depression_ageadjprv',\n",
    "    #'brfss_ghlth_ageadjprv',\n",
    "    'brfss_mhlth_ageadjprv',\n",
    "    'brfss_obesity_ageadjprv',\n",
    "    'pct_ed_lt9',\n",
    "    'pct_ed_9_12',\n",
    "    'pct_ed_hs',\n",
    "    #'pct_ed_sc',\n",
    "    'pct_ed_asc',\n",
    "    #'pct_ed_b',\n",
    "    #'pct_ed_gr',\n",
    "    'pct_age_gte65',\n",
    "    #'pct_race_white',\n",
    "    'pct_race_black',\n",
    "    'pct_race_aian',\n",
    "    'pct_race_asian',\n",
    "    'pct_race_nhopi',\n",
    "    'pct_race_other',\n",
    "    #'pct_eth_hisp',\n",
    "    'pct_sex_male',\n",
    "    #'pct_sex_female',\n",
    "    'pct_occ_unemp',\n",
    "    #'pct_occ_mgt',\n",
    "    #'pct_occ_svc',\n",
    "    #'pct_occ_sales',\n",
    "    #'pct_occ_nat_res',\n",
    "    #'pct_occ_prod',\n",
    "    'pct_hlth_unins',\n",
    "    'pct_ses_pov',\n",
    "    'pct_tp_veh_0',\n",
    "    #'pct_tp_veh_1',\n",
    "    #'pct_tp_veh_2',\n",
    "    #'pct_tp_veh_3',\n",
    "    'bb_int_struct',\n",
    "    #'ruca_metro',\n",
    "    #'ruca_micro',\n",
    "    #'ruca_small_town',\n",
    "    'ruca_rural'\n",
    "]\n",
    "geo = [\n",
    "    'state',\n",
    "    'county'\n",
    "]\n",
    "df = df[geo + target + features]\n",
    "\n",
    "print(df.info())"
   ]
  },
  {
   "cell_type": "markdown",
   "metadata": {},
   "source": [
    "# Predictive Power"
   ]
  },
  {
   "cell_type": "code",
   "execution_count": 18,
   "metadata": {},
   "outputs": [
    {
     "name": "stdout",
     "output_type": "stream",
     "text": [
      "Linear Regression\n",
      "Size of training set:  2307\n",
      "Size of testing set:  769\n",
      "\n",
      "MAE: 0.457 (0.024)\n",
      "MSE: 0.383 (0.049)\n",
      "RMSE: 0.617 (0.040)\n",
      "R^2: 0.925 (0.011)\n",
      "\n",
      "Test set\n",
      "MAE: 0.479\n",
      "MSE: 0.403\n",
      "RMSE: 0.634\n",
      "R^2: 0.918\n"
     ]
    }
   ],
   "source": [
    "X = df[features]\n",
    "y = df[target]\n",
    "y = np.array(y).ravel()\n",
    "\n",
    "X_train, X_test, y_train, y_test = train_test_split(X, y, test_size=0.25, random_state=418)\n",
    "\n",
    "lr = LinearRegression(fit_intercept=True)\n",
    "lr.fit(X_train, y_train)\n",
    "print('Linear Regression')\n",
    "print('Size of training set: ', X_train.shape[0])\n",
    "print('Size of testing set: ', X_test.shape[0])\n",
    "\n",
    "# Assess MAE, MSE, RMSE, and R^2 with cross validation\n",
    "cv = RepeatedKFold(n_splits=10, n_repeats=3, random_state=418)\n",
    "\n",
    "print('')\n",
    "mae = cross_val_score(lr, X_train, y_train, scoring=make_scorer(mean_absolute_error), cv=cv, n_jobs=-1)\n",
    "print('MAE: %.3f (%.3f)' % (np.mean(mae), np.std(mae)))\n",
    "mse = cross_val_score(lr, X_train, y_train, scoring=make_scorer(mean_squared_error), cv=cv, n_jobs=-1)\n",
    "print('MSE: %.3f (%.3f)' % (np.mean(mse), np.std(mse)))\n",
    "rmse = cross_val_score(lr, X_train, y_train, scoring=make_scorer(mean_squared_error, squared=False), cv=cv, n_jobs=-1)\n",
    "print('RMSE: %.3f (%.3f)' % (np.mean(rmse), np.std(rmse)))\n",
    "r2 = cross_val_score(lr, X_train, y_train, scoring=make_scorer(r2_score), cv=cv, n_jobs=-1)\n",
    "print('R^2: %.3f (%.3f)' % (np.mean(r2), np.std(r2)))\n",
    "\n",
    "# Assess MAE, MSE, RMSE, and R^2 with test set\n",
    "y_pred = lr.predict(X_test)\n",
    "print('')\n",
    "print('Test set')\n",
    "mae = mean_absolute_error(y_test, y_pred)\n",
    "print('MAE: %.3f' % mae)\n",
    "mse = mean_squared_error(y_test, y_pred)\n",
    "print('MSE: %.3f' % mse)\n",
    "rmse = mean_squared_error(y_test, y_pred, squared=False)\n",
    "print('RMSE: %.3f' % rmse)\n",
    "r2 = r2_score(y_test, y_pred)\n",
    "print('R^2: %.3f' % r2)\n"
   ]
  },
  {
   "cell_type": "markdown",
   "metadata": {},
   "source": [
    "# Geographic Analysis\n",
    "Organized by larger regions defined by the US Census Bureau. The regions are Northeast, Midwest, South, and West."
   ]
  },
  {
   "cell_type": "code",
   "execution_count": 5,
   "metadata": {},
   "outputs": [
    {
     "data": {
      "text/plain": [
       "array([], dtype=object)"
      ]
     },
     "execution_count": 5,
     "metadata": {},
     "output_type": "execute_result"
    }
   ],
   "source": [
    "regions = {\n",
    "    'Northeast': ['Connecticut', 'Maine', 'Massachusetts', 'New Hampshire', 'Rhode Island', 'Vermont', 'New Jersey', 'New York', 'Pennsylvania'],\n",
    "    'Midwest': ['Indiana', 'Illinois', 'Michigan', 'Ohio', 'Wisconsin', 'Iowa', 'Kansas', 'Minnesota', 'Missouri', 'Nebraska', 'North Dakota', 'South Dakota'],\n",
    "    'South': ['Delaware', 'Georgia', 'Maryland', 'North Carolina', 'South Carolina', 'Virginia', 'District of Columbia', 'West Virginia', 'Alabama', 'Kentucky', 'Mississippi', 'Tennessee', 'Arkansas', 'Louisiana', 'Oklahoma', 'Texas'],\n",
    "    'West': ['Arizona', 'Colorado', 'Idaho', 'Montana', 'Nevada', 'New Mexico', 'Utah', 'Wyoming', 'Alaska', 'California', 'Hawaii', 'Oregon', 'Washington']\n",
    "}\n",
    "\n",
    "df['region'] = df['state'].apply(lambda x: [k for k, v in regions.items() if x in v][0])\n",
    "\n",
    "unmapped = df[~df['region'].isin(regions.keys())]\n",
    "unmapped['state'].unique()"
   ]
  },
  {
   "cell_type": "code",
   "execution_count": 6,
   "metadata": {},
   "outputs": [
    {
     "data": {
      "text/plain": [
       "{'West': -0.01465962307805669,\n",
       " 'South': -0.007419407999862132,\n",
       " 'Northeast': 0.0029414615561734027,\n",
       " 'Midwest': -0.003405581268797068}"
      ]
     },
     "execution_count": 6,
     "metadata": {},
     "output_type": "execute_result"
    }
   ],
   "source": [
    "def regression_by_region(region_name, data, predictors, target):\n",
    "    region_data = data[data['region'] == region_name]\n",
    "    region_target = region_data[target]\n",
    "    region_features = region_data[predictors]\n",
    "    region_features = sm.add_constant(region_features)\n",
    "    region_model = sm.OLS(region_target, region_features).fit()\n",
    "    bb_int_coef = region_model.params['pct_dg_bb_int']\n",
    "\n",
    "    return region_model, bb_int_coef\n",
    "\n",
    "region_coef = {}\n",
    "\n",
    "for region in df['region'].unique():\n",
    "    region_model, bb_int_coef = regression_by_region(region, df, features, target)\n",
    "    region_coef[region] = bb_int_coef\n",
    "\n",
    "region_coef"
   ]
  },
  {
   "cell_type": "code",
   "execution_count": 7,
   "metadata": {},
   "outputs": [
    {
     "data": {
      "text/plain": [
       "{'Alaska': 0.002418833157034561,\n",
       " 'Alabama': -0.011859505650560126,\n",
       " 'Arkansas': -0.001602191875789416,\n",
       " 'Arizona': -0.04109473677280065,\n",
       " 'California': -0.026781047148227072,\n",
       " 'Colorado': 0.014080732029016649,\n",
       " 'Connecticut': -0.03480731793269787,\n",
       " 'District of Columbia': 0.03732039863859621,\n",
       " 'Delaware': 0.02453769952530593,\n",
       " 'Georgia': 0.0022804718509326603,\n",
       " 'Hawaii': -0.008577077273760385,\n",
       " 'Iowa': 0.00023396260636904254,\n",
       " 'Idaho': -0.011233477482304632,\n",
       " 'Illinois': -0.004046027504326224,\n",
       " 'Indiana': 0.0061792781071618175,\n",
       " 'Kansas': 0.0057254730271680335,\n",
       " 'Kentucky': -0.010493287064576182,\n",
       " 'Louisiana': -0.022633059396420463,\n",
       " 'Massachusetts': -0.0857531654323902,\n",
       " 'Maryland': 0.12271305710487135,\n",
       " 'Maine': -0.03367449361479047,\n",
       " 'Michigan': -0.010631765316182894,\n",
       " 'Minnesota': -0.012732065997168772,\n",
       " 'Missouri': 0.0179454462350295,\n",
       " 'Mississippi': 0.007068144912380725,\n",
       " 'Montana': 0.005063796164559126,\n",
       " 'North Carolina': 0.004724982243426767,\n",
       " 'North Dakota': -0.010332033310963594,\n",
       " 'Nebraska': 0.012363096163148202,\n",
       " 'New Hampshire': -0.15662017114625237,\n",
       " 'New Jersey': -0.06680738226427196,\n",
       " 'New Mexico': -0.06451542468915993,\n",
       " 'Nevada': 0.008229359495940067,\n",
       " 'New York': -0.005521799173853453,\n",
       " 'Ohio': -0.013156033976322506,\n",
       " 'Oklahoma': 0.008101335907228856,\n",
       " 'Oregon': 0.01138187257502904,\n",
       " 'Pennsylvania': -0.015873279683614787,\n",
       " 'Rhode Island': 0.03523762540293357,\n",
       " 'South Carolina': -0.020263340173698907,\n",
       " 'South Dakota': -0.023849427316733122,\n",
       " 'Tennessee': 0.0016306484324675047,\n",
       " 'Texas': -0.04030260224048092,\n",
       " 'Utah': 0.05605162881954023,\n",
       " 'Virginia': 0.0024322816855385995,\n",
       " 'Vermont': 0.06359120411072566,\n",
       " 'Washington': 0.008199765425928318,\n",
       " 'Wisconsin': 0.0027838437392849746,\n",
       " 'West Virginia': 0.014307242679124477,\n",
       " 'Wyoming': 0.021371458402920984}"
      ]
     },
     "execution_count": 7,
     "metadata": {},
     "output_type": "execute_result"
    }
   ],
   "source": [
    "def regression_by_state(state_name, data, predictors, target):\n",
    "    state_data = data[data['state'] == state_name]\n",
    "    state_target = state_data[target]\n",
    "    state_features = state_data[predictors]\n",
    "    state_features = sm.add_constant(state_features)\n",
    "    state_model = sm.OLS(state_target, state_features).fit()\n",
    "    bb_int_coef = state_model.params['pct_dg_bb_int']\n",
    "\n",
    "    return state_model, bb_int_coef\n",
    "\n",
    "state_coef = {}\n",
    "\n",
    "for state in df['state'].unique():\n",
    "    state_model, bb_int_coef = regression_by_state(state, df, features, target)\n",
    "    state_coef[state] = bb_int_coef\n",
    "\n",
    "state_coef\n"
   ]
  },
  {
   "cell_type": "markdown",
   "metadata": {},
   "source": [
    "# Machine Learning : Alternative Models"
   ]
  },
  {
   "cell_type": "code",
   "execution_count": 19,
   "metadata": {},
   "outputs": [],
   "source": [
    "models = {\n",
    "    'Decision Tree': DecisionTreeRegressor(),\n",
    "    'Random Forest': RandomForestRegressor(),\n",
    "    'Gradient Boosting': GradientBoostingRegressor(),\n",
    "    'K-Nearest Neighbors': KNeighborsRegressor(),\n",
    "    'Multi-Layer Perceptron': MLPRegressor()\n",
    "}\n",
    "\n",
    "\n",
    "dt_params = {\n",
    "    'max_depth': [2, 3, 4, 5, 6, 7, 8, 9, 10],\n",
    "    'min_samples_split': [2, 3, 4, 5, 6, 7, 8, 9, 10],\n",
    "    'min_samples_leaf': [1, 2, 3, 4, 5, 6, 7, 8, 9 ,10]\n",
    "}\n",
    "\n",
    "rf_params = {\n",
    "    'n_estimators': [50, 150],\n",
    "    'max_depth': [2, 5, 10],\n",
    "    'min_samples_split': [2, 5, 10],\n",
    "    'min_samples_leaf': [1, 2, 6, 10]\n",
    "}\n",
    "\n",
    "gb_params = {\n",
    "    'n_estimators': [50, 150],\n",
    "    'max_depth': [2, 5, 10],\n",
    "    'min_samples_split': [2, 5, 10],\n",
    "    'min_samples_leaf': [1, 2, 6, 10],\n",
    "    'learning_rate': [0.01, 0.1]\n",
    "}\n",
    "\n",
    "knn_params = {\n",
    "    'n_neighbors': [3, 5, 7],\n",
    "    'weights': ['uniform', 'distance'],\n",
    "    'p': [1, 2]\n",
    "}\n",
    "\n",
    "mlp_params = {\n",
    "    'hidden_layer_sizes': [(10,), (20,), (30,), (40,), (50,)],\n",
    "    'activation': ['relu'],\n",
    "    'solver': ['adam'],\n",
    "    'learning_rate': ['constant', 'adaptive']\n",
    "}\n",
    "\n",
    "params = {\n",
    "    'Decision Tree': dt_params,\n",
    "    'Random Forest': rf_params,\n",
    "    'Gradient Boosting': gb_params,\n",
    "    'K-Nearest Neighbors': knn_params,\n",
    "    'Multi-Layer Perceptron': mlp_params\n",
    "}\n"
   ]
  },
  {
   "cell_type": "code",
   "execution_count": 21,
   "metadata": {},
   "outputs": [
    {
     "name": "stdout",
     "output_type": "stream",
     "text": [
      "Model: Decision Tree\n",
      "Fitting 15 folds for each of 810 candidates, totalling 12150 fits\n",
      "Best Parameters: {'max_depth': 8, 'min_samples_leaf': 7, 'min_samples_split': 6}\n",
      "Best Score: 0.7051516349349695\n",
      "\n",
      "Model: Random Forest\n",
      "Fitting 15 folds for each of 72 candidates, totalling 1080 fits\n",
      "Best Parameters: {'max_depth': 10, 'min_samples_leaf': 2, 'min_samples_split': 2, 'n_estimators': 150}\n",
      "Best Score: 0.5525369071681799\n",
      "\n",
      "Model: Gradient Boosting\n",
      "Fitting 15 folds for each of 144 candidates, totalling 2160 fits\n",
      "Best Parameters: {'learning_rate': 0.1, 'max_depth': 5, 'min_samples_leaf': 1, 'min_samples_split': 5, 'n_estimators': 150}\n",
      "Best Score: 0.513922524495836\n",
      "\n",
      "Model: K-Nearest Neighbors\n",
      "Fitting 15 folds for each of 12 candidates, totalling 180 fits\n"
     ]
    },
    {
     "name": "stderr",
     "output_type": "stream",
     "text": [
      "c:\\ProgramData\\miniconda3\\envs\\ds_mf\\lib\\site-packages\\sklearn\\model_selection\\_search.py:952: UserWarning: One or more of the test scores are non-finite: [nan nan nan nan nan nan nan nan nan nan nan nan]\n",
      "  warnings.warn(\n"
     ]
    },
    {
     "name": "stdout",
     "output_type": "stream",
     "text": [
      "Best Parameters: {'n_neighbors': 3, 'p': 1, 'weights': 'uniform'}\n",
      "Best Score: nan\n",
      "\n",
      "Model: Multi-Layer Perceptron\n",
      "Fitting 15 folds for each of 10 candidates, totalling 150 fits\n",
      "Best Parameters: {'activation': 'relu', 'hidden_layer_sizes': (50,), 'learning_rate': 'adaptive', 'solver': 'adam'}\n",
      "Best Score: 0.4962665624437043\n",
      "\n"
     ]
    }
   ],
   "source": [
    "for model_name, model in models.items():\n",
    "    print('Model:', model_name)\n",
    "    grid_search = GridSearchCV(model, params[model_name], cv=15, scoring='neg_mean_absolute_error', verbose=1, n_jobs=-1)\n",
    "    grid_search.fit(X, y)\n",
    "    print('Best Parameters:', grid_search.best_params_)\n",
    "    print('Best Score:', -grid_search.best_score_)\n",
    "    print()"
   ]
  },
  {
   "cell_type": "markdown",
   "metadata": {},
   "source": [
    "Model: Decision Tree\n",
    "Fitting 15 folds for each of 810 candidates, totalling 12150 fits\n",
    "Best Parameters: {'max_depth': 8, 'min_samples_leaf': 7, 'min_samples_split': 6}\n",
    "Best Score: 0.7051516349349695\n",
    "\n",
    "Model: Random Forest\n",
    "Fitting 15 folds for each of 72 candidates, totalling 1080 fits\n",
    "Best Parameters: {'max_depth': 10, 'min_samples_leaf': 2, 'min_samples_split': 2, 'n_estimators': 150}\n",
    "Best Score: 0.5525369071681799\n",
    "\n",
    "Model: Gradient Boosting\n",
    "Fitting 15 folds for each of 144 candidates, totalling 2160 fits\n",
    "Best Parameters: {'learning_rate': 0.1, 'max_depth': 5, 'min_samples_leaf': 1, 'min_samples_split': 5, 'n_estimators': 150}\n",
    "Best Score: 0.513922524495836\n",
    "\n",
    "Model: K-Nearest Neighbors\n",
    "Fitting 15 folds for each of 12 candidates, totalling 180 fits\n",
    "c:\\ProgramData\\miniconda3\\envs\\ds_mf\\lib\\site-packages\\sklearn\\model_selection\\_search.py:952: UserWarning: One or more of the test scores are non-finite: [nan nan nan nan nan nan nan nan nan nan nan nan]\n",
    "  warnings.warn(\n",
    "Best Parameters: {'n_neighbors': 3, 'p': 1, 'weights': 'uniform'}\n",
    "Best Score: nan\n",
    "\n",
    "Model: Multi-Layer Perceptron\n",
    "Fitting 15 folds for each of 10 candidates, totalling 150 fits\n",
    "Best Parameters: {'activation': 'relu', 'hidden_layer_sizes': (50,), 'learning_rate': 'adaptive', 'solver': 'adam'}\n",
    "Best Score: 0.4962665624437043"
   ]
  },
  {
   "cell_type": "code",
   "execution_count": 23,
   "metadata": {},
   "outputs": [
    {
     "name": "stdout",
     "output_type": "stream",
     "text": [
      "Model: Decision Tree\n",
      "Fitting 15 folds for each of 10 candidates, totalling 150 fits\n",
      "Best Parameters: {'min_samples_split': 5, 'min_samples_leaf': 9, 'max_depth': 9}\n",
      "Best Score: 0.7060421003705684\n",
      "\n",
      "Model: Random Forest\n",
      "Fitting 15 folds for each of 10 candidates, totalling 150 fits\n",
      "Best Parameters: {'n_estimators': 150, 'min_samples_split': 5, 'min_samples_leaf': 1, 'max_depth': 10}\n",
      "Best Score: 0.5515972712496034\n",
      "\n",
      "Model: Gradient Boosting\n",
      "Fitting 15 folds for each of 10 candidates, totalling 150 fits\n",
      "Best Parameters: {'n_estimators': 50, 'min_samples_split': 10, 'min_samples_leaf': 6, 'max_depth': 5, 'learning_rate': 0.1}\n",
      "Best Score: 0.5335425140381909\n",
      "\n",
      "Model: K-Nearest Neighbors\n",
      "Fitting 15 folds for each of 10 candidates, totalling 150 fits\n"
     ]
    },
    {
     "name": "stderr",
     "output_type": "stream",
     "text": [
      "c:\\ProgramData\\miniconda3\\envs\\ds_mf\\lib\\site-packages\\sklearn\\model_selection\\_search.py:952: UserWarning: One or more of the test scores are non-finite: [nan nan nan nan nan nan nan nan nan nan]\n",
      "  warnings.warn(\n"
     ]
    },
    {
     "name": "stdout",
     "output_type": "stream",
     "text": [
      "Best Parameters: {'weights': 'uniform', 'p': 1, 'n_neighbors': 5}\n",
      "Best Score: nan\n",
      "\n",
      "Model: Multi-Layer Perceptron\n",
      "Fitting 15 folds for each of 10 candidates, totalling 150 fits\n",
      "Best Parameters: {'solver': 'adam', 'learning_rate': 'constant', 'hidden_layer_sizes': (40,), 'activation': 'relu'}\n",
      "Best Score: 0.49043231597345843\n",
      "\n"
     ]
    }
   ],
   "source": [
    "from sklearn.model_selection import RandomizedSearchCV\n",
    "\n",
    "for model_name, model in models.items():\n",
    "    print('Model:', model_name)\n",
    "    random_search = RandomizedSearchCV(model, params[model_name], cv=15, scoring='neg_mean_absolute_error', verbose=1, n_jobs=-1)\n",
    "    random_search.fit(X, y)\n",
    "    print('Best Parameters:', random_search.best_params_)\n",
    "    print('Best Score:', -random_search.best_score_)\n",
    "    print()"
   ]
  },
  {
   "cell_type": "markdown",
   "metadata": {},
   "source": [
    "Model: Decision Tree\n",
    "Fitting 15 folds for each of 10 candidates, totalling 150 fits\n",
    "Best Parameters: {'min_samples_split': 5, 'min_samples_leaf': 9, 'max_depth': 9}\n",
    "Best Score: 0.7060421003705684\n",
    "\n",
    "Model: Random Forest\n",
    "Fitting 15 folds for each of 10 candidates, totalling 150 fits\n",
    "Best Parameters: {'n_estimators': 150, 'min_samples_split': 5, 'min_samples_leaf': 1, 'max_depth': 10}\n",
    "Best Score: 0.5515972712496034\n",
    "\n",
    "Model: Gradient Boosting\n",
    "Fitting 15 folds for each of 10 candidates, totalling 150 fits\n",
    "Best Parameters: {'n_estimators': 50, 'min_samples_split': 10, 'min_samples_leaf': 6, 'max_depth': 5, 'learning_rate': 0.1}\n",
    "Best Score: 0.5335425140381909\n",
    "\n",
    "Model: K-Nearest Neighbors\n",
    "Fitting 15 folds for each of 10 candidates, totalling 150 fits\n",
    "c:\\ProgramData\\miniconda3\\envs\\ds_mf\\lib\\site-packages\\sklearn\\model_selection\\_search.py:952: UserWarning: One or more of the test scores are non-finite: [nan nan nan nan nan nan nan nan nan nan]\n",
    "  warnings.warn(\n",
    "Best Parameters: {'weights': 'uniform', 'p': 1, 'n_neighbors': 5}\n",
    "Best Score: nan\n",
    "\n",
    "Model: Multi-Layer Perceptron\n",
    "Fitting 15 folds for each of 10 candidates, totalling 150 fits\n",
    "Best Parameters: {'solver': 'adam', 'learning_rate': 'constant', 'hidden_layer_sizes': (40,), 'activation': 'relu'}\n",
    "Best Score: 0.49043231597345843\n"
   ]
  },
  {
   "cell_type": "code",
   "execution_count": 24,
   "metadata": {},
   "outputs": [
    {
     "name": "stdout",
     "output_type": "stream",
     "text": [
      "Fitting 15 folds for each of 10 candidates, totalling 150 fits\n",
      "Best Parameters: {'solver': 'adam', 'learning_rate': 'adaptive', 'hidden_layer_sizes': (40, 20, 10), 'early_stopping': True, 'alpha': 0.1, 'activation': 'relu'}\n",
      "Best Score: 0.49871462990045917\n",
      "\n"
     ]
    }
   ],
   "source": [
    "#additional MLP parameters \n",
    "mlp_params = {\n",
    "    'hidden_layer_sizes': [(10,80,30,5), (40,20,10), (50,), (40,), (50,10,4)],\n",
    "    'activation': ['relu'],\n",
    "    'solver': ['adam'],\n",
    "    'learning_rate': ['constant', 'adaptive'],\n",
    "    'alpha': [0.0001, 0.001, 0.01, 0.1],\n",
    "    'early_stopping': [True]\n",
    "}\n",
    "\n",
    "mlp = MLPRegressor()\n",
    "\n",
    "mlp_random_search = RandomizedSearchCV(mlp, mlp_params, cv=15, scoring='neg_mean_absolute_error', verbose=1, n_jobs=-1)\n",
    "mlp_random_search.fit(X, y)\n",
    "print('Best Parameters:', mlp_random_search.best_params_)\n",
    "print('Best Score:', -mlp_random_search.best_score_)\n",
    "print()\n",
    "\n"
   ]
  },
  {
   "cell_type": "markdown",
   "metadata": {},
   "source": [
    "# MLP Predictive Capabilities and Cross-Fold Validation"
   ]
  },
  {
   "cell_type": "code",
   "execution_count": 28,
   "metadata": {},
   "outputs": [
    {
     "name": "stdout",
     "output_type": "stream",
     "text": [
      "R2 Mean: 0.9246651447604001\n",
      "RMSE Mean: 0.616186049996793\n",
      "MAE Mean: 0.4642448330397452\n"
     ]
    }
   ],
   "source": [
    "#best model from hyperparameter tuning\n",
    "model = MLPRegressor(activation='relu', hidden_layer_sizes=(40, 10, 4), learning_rate='adaptive', solver='adam', max_iter=1000, random_state=42, early_stopping=True, alpha=0.1)\n",
    "cv = RepeatedKFold(n_splits=10, n_repeats=3, random_state=42)\n",
    "cv_r2 = cross_val_score(model, X, y, cv=cv, scoring='r2', n_jobs=-1)\n",
    "cv_rmse = cross_val_score(model, X, y, cv=cv, scoring='neg_root_mean_squared_error', n_jobs=-1)\n",
    "cv_abs_error = cross_val_score(model, X, y, cv=cv, scoring='neg_mean_absolute_error', n_jobs=-1)\n",
    "\n",
    "print('R2 Mean:', cv_r2.mean())\n",
    "print('RMSE Mean:', -cv_rmse.mean())\n",
    "print('MAE Mean:', -cv_abs_error.mean())\n"
   ]
  },
  {
   "cell_type": "code",
   "execution_count": 33,
   "metadata": {},
   "outputs": [
    {
     "data": {
      "image/png": "[encoded data removed]",
      "text/plain": [
       "<Figure size 640x480 with 1 Axes>"
      ]
     },
     "metadata": {},
     "output_type": "display_data"
    }
   ],
   "source": [
    "model.fit(X, y)\n",
    "from sklearn.inspection import permutation_importance\n",
    "\n",
    "perm_importance = permutation_importance(model, X, y, n_repeats=100, random_state=42, n_jobs=-1)\n",
    "sorted_idx = perm_importance.importances_mean.argsort()\n",
    "\n",
    "fig, ax = plt.subplots()\n",
    "ax.boxplot(perm_importance.importances[sorted_idx].T, vert=False, labels=X.columns[sorted_idx])\n",
    "ax.set_title(\"Permutation Importances\")\n",
    "fig.tight_layout()\n",
    "plt.show()\n"
   ]
  },
  {
   "cell_type": "markdown",
   "metadata": {},
   "source": [
    "# OLS Predictive Capabilities and Cross-fold validation"
   ]
  },
  {
   "cell_type": "code",
   "execution_count": 26,
   "metadata": {},
   "outputs": [
    {
     "name": "stdout",
     "output_type": "stream",
     "text": [
      "R2 Mean: 0.9235430551313674\n",
      "RMSE Mean: 0.6209565376836595\n",
      "MAE Mean: 0.45993880372742546\n"
     ]
    }
   ],
   "source": [
    "#linear model\n",
    "model = LinearRegression(fit_intercept=True)\n",
    "cv = RepeatedKFold(n_splits=10, n_repeats=3, random_state=42)\n",
    "cv_r2 = cross_val_score(model, X, y, cv=cv, scoring='r2', n_jobs=-1)\n",
    "cv_rmse = cross_val_score(model, X, y, cv=cv, scoring='neg_root_mean_squared_error', n_jobs=-1)\n",
    "cv_abs_error = cross_val_score(model, X, y, cv=cv, scoring='neg_mean_absolute_error', n_jobs=-1)\n",
    "\n",
    "print('R2 Mean:', cv_r2.mean())\n",
    "print('RMSE Mean:', -cv_rmse.mean())\n",
    "print('MAE Mean:', -cv_abs_error.mean())\n"
   ]
  }
 ],
 "metadata": {
  "kernelspec": {
   "display_name": "ds_mf",
   "language": "python",
   "name": "python3"
  },
  "language_info": {
   "codemirror_mode": {
    "name": "ipython",
    "version": 3
   },
   "file_extension": ".py",
   "mimetype": "text/x-python",
   "name": "python",
   "nbconvert_exporter": "python",
   "pygments_lexer": "ipython3",
   "version": "3.10.10"
  }
 },
 "nbformat": 4,
 "nbformat_minor": 2
}
