{
 "cells": [
  {
   "cell_type": "code",
   "execution_count": null,
   "metadata": {},
   "outputs": [],
   "source": [
    "from sodapy import Socrata\n",
    "client = Socrata(\"chronicdata.cdc.gov\", 'phceef5Bs3FyOOOd82FyjwziG', username='mfarme@outlook.com', password='u7hwEt8ChspWWh')\n",
    "results = client.get_all(\"swc5-untb\", ) # BRFSS\n",
    "results_df = pd.DataFrame.from_records(results)\n",
    "results_df"
   ]
  }
 ],
 "metadata": {
  "language_info": {
   "name": "python"
  },
  "orig_nbformat": 4
 },
 "nbformat": 4,
 "nbformat_minor": 2
}
