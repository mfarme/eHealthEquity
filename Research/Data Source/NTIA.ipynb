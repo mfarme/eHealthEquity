{
 "cells": [
  {
   "cell_type": "code",
   "execution_count": 4,
   "metadata": {},
   "outputs": [],
   "source": [
    "import pandas as pd\n",
    "import os "
   ]
  },
  {
   "cell_type": "code",
   "execution_count": null,
   "metadata": {},
   "outputs": [],
   "source": [
    "# import requests, zipfile, io\n",
    "# r = requests.get('https://www.ntia.gov/sites/default/files/data_central_downloads/datasets/nov21-cps-csv.zip')\n",
    "# z = zipfile.ZipFile(io.BytesIO(r.content))\n",
    "# # unzip .zip\n",
    "# z.extractall()\n",
    "# # read in .csv\n",
    "# df = pd.read_csv('nov21-cps.csv')"
   ]
  }
 ],
 "metadata": {
  "kernelspec": {
   "display_name": "ds_mf",
   "language": "python",
   "name": "python3"
  },
  "language_info": {
   "codemirror_mode": {
    "name": "ipython",
    "version": 3
   },
   "file_extension": ".py",
   "mimetype": "text/x-python",
   "name": "python",
   "nbconvert_exporter": "python",
   "pygments_lexer": "ipython3",
   "version": "3.10.10"
  }
 },
 "nbformat": 4,
 "nbformat_minor": 2
}
